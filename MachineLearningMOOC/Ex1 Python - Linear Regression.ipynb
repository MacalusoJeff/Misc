{
 "cells": [
  {
   "cell_type": "markdown",
   "metadata": {},
   "source": [
    "# Exercise 1 - Python: Linear Regression\n",
    "\n",
    "<img src=\"https://upload.wikimedia.org/wikipedia/commons/3/3a/Linear_regression.svg\">\n",
    "\n",
    "## Part I: *Univariate linear regression*\n",
    "\n",
    "Predicting restaurant profits with city population\n",
    "\n",
    "Beginning with package imports, data loading, and initial visualization"
   ]
  },
  {
   "cell_type": "code",
   "execution_count": 1,
   "metadata": {
    "ExecuteTime": {
     "end_time": "2017-07-20T17:49:37.721994Z",
     "start_time": "2017-07-20T17:49:33.839451Z"
    },
    "collapsed": true
   },
   "outputs": [],
   "source": [
    "import numpy as np\n",
    "import pandas as pd\n",
    "from sklearn.linear_model import LinearRegression  # For comparing answers\n",
    "import matplotlib.pyplot as plt\n",
    "\n",
    "plt.style.use('seaborn-notebook')\n",
    "\n",
    "%matplotlib inline"
   ]
  },
  {
   "cell_type": "code",
   "execution_count": 2,
   "metadata": {
    "ExecuteTime": {
     "end_time": "2017-07-20T17:49:37.743516Z",
     "start_time": "2017-07-20T17:49:37.727997Z"
    }
   },
   "outputs": [
    {
     "name": "stdout",
     "output_type": "stream",
     "text": [
      "['seaborn', 'ggplot', 'seaborn-colorblind', 'seaborn-deep', 'dark_background', 'seaborn-notebook', 'seaborn-muted', 'seaborn-dark-palette', 'grayscale', 'seaborn-talk', 'seaborn-dark', 'seaborn-poster', 'fivethirtyeight', 'seaborn-ticks', 'seaborn-white', 'seaborn-paper', 'seaborn-whitegrid', 'classic', 'bmh', 'seaborn-pastel', 'seaborn-darkgrid', 'seaborn-bright']\n"
     ]
    }
   ],
   "source": [
    "print(plt.style.available)"
   ]
  },
  {
   "cell_type": "code",
   "execution_count": 3,
   "metadata": {
    "ExecuteTime": {
     "end_time": "2017-07-20T17:49:37.807560Z",
     "start_time": "2017-07-20T17:49:37.757525Z"
    }
   },
   "outputs": [
    {
     "data": {
      "text/html": [
       "<div>\n",
       "<style>\n",
       "    .dataframe thead tr:only-child th {\n",
       "        text-align: right;\n",
       "    }\n",
       "\n",
       "    .dataframe thead th {\n",
       "        text-align: left;\n",
       "    }\n",
       "\n",
       "    .dataframe tbody tr th {\n",
       "        vertical-align: top;\n",
       "    }\n",
       "</style>\n",
       "<table border=\"1\" class=\"dataframe\">\n",
       "  <thead>\n",
       "    <tr style=\"text-align: right;\">\n",
       "      <th></th>\n",
       "      <th>Population</th>\n",
       "      <th>Profit</th>\n",
       "    </tr>\n",
       "  </thead>\n",
       "  <tbody>\n",
       "    <tr>\n",
       "      <th>0</th>\n",
       "      <td>6.1101</td>\n",
       "      <td>17.5920</td>\n",
       "    </tr>\n",
       "    <tr>\n",
       "      <th>1</th>\n",
       "      <td>5.5277</td>\n",
       "      <td>9.1302</td>\n",
       "    </tr>\n",
       "    <tr>\n",
       "      <th>2</th>\n",
       "      <td>8.5186</td>\n",
       "      <td>13.6620</td>\n",
       "    </tr>\n",
       "    <tr>\n",
       "      <th>3</th>\n",
       "      <td>7.0032</td>\n",
       "      <td>11.8540</td>\n",
       "    </tr>\n",
       "    <tr>\n",
       "      <th>4</th>\n",
       "      <td>5.8598</td>\n",
       "      <td>6.8233</td>\n",
       "    </tr>\n",
       "  </tbody>\n",
       "</table>\n",
       "</div>"
      ],
      "text/plain": [
       "   Population   Profit\n",
       "0      6.1101  17.5920\n",
       "1      5.5277   9.1302\n",
       "2      8.5186  13.6620\n",
       "3      7.0032  11.8540\n",
       "4      5.8598   6.8233"
      ]
     },
     "execution_count": 3,
     "metadata": {},
     "output_type": "execute_result"
    }
   ],
   "source": [
    "dfRest = pd.read_csv('ex1/ex1data1.txt', header=None,\n",
    "                     names=['Population','Profit'])\n",
    "\n",
    "dfRest.head()"
   ]
  },
  {
   "cell_type": "code",
   "execution_count": 4,
   "metadata": {
    "ExecuteTime": {
     "end_time": "2017-07-20T17:49:38.222517Z",
     "start_time": "2017-07-20T17:49:37.815567Z"
    }
   },
   "outputs": [
    {
     "data": {
      "text/plain": [
       "<matplotlib.text.Text at 0x2b64d8e7470>"
      ]
     },
     "execution_count": 4,
     "metadata": {},
     "output_type": "execute_result"
    },
    {
     "data": {
      "image/png": "[encoded data removed]",
      "text/plain": [
       "<matplotlib.figure.Figure at 0x2b64d7605f8>"
      ]
     },
     "metadata": {},
     "output_type": "display_data"
    }
   ],
   "source": [
    "dfRest.plot.scatter(x='Population', y='Profit', alpha=0.7,\n",
    "                    title='Restaurant Profits by Population')\n",
    "\n",
    "plt.xlabel(\"Population of City in 10'000s\")\n",
    "plt.ylabel(\"Profit in $10'000s\")"
   ]
  },
  {
   "cell_type": "markdown",
   "metadata": {},
   "source": [
    "### Cost Function\n",
    "\n",
    "**Hypothesis**: $h_\\theta(x) = \\theta_0 + \\theta_1x_1$\n",
    "\n",
    "- Notation:\n",
    "\n",
    "    - $\\theta_0$: Intercept\n",
    "\n",
    "    - $\\theta_1$: Coefficient of the regressor.  Statisticians will often write this as $\\beta_1$\n",
    "\n",
    "**Cost Function**: $J(\\theta_0, \\theta_1) = \\frac{1}{2m} \\sum_{i=1}^{m} (h_\\theta(x^{(i)})-y^{(i)})^2$\n",
    "\n",
    "- Notation:\n",
    "\n",
    "    - $m$: Number of records\n",
    "\n",
    "    - $i$: Index of the record (e.x. if $i = 46$, then 46th row)"
   ]
  },
  {
   "cell_type": "code",
   "execution_count": 5,
   "metadata": {
    "ExecuteTime": {
     "end_time": "2017-07-20T17:49:38.284088Z",
     "start_time": "2017-07-20T17:49:38.228524Z"
    }
   },
   "outputs": [
    {
     "data": {
      "text/plain": [
       "32.072733877455654"
      ]
     },
     "execution_count": 5,
     "metadata": {},
     "output_type": "execute_result"
    }
   ],
   "source": [
    "# Adding a column of 1s to better handle theta_0\n",
    "dfRest['x0'] = 1\n",
    "\n",
    "# Creating arrays out of the predictors and response variables\n",
    "X = dfRest[['x0', 'Population']]\n",
    "y = dfRest['Profit']\n",
    "\n",
    "def cost_function(X, y, theta=[[0],[0]]):\n",
    "    \"\"\"Calculates the squared error\"\"\"\n",
    "    m = y.size\n",
    "    h = X.dot(theta)  # Dot product multiplication\n",
    "    squaredError = np.sum((h.subtract(y, axis=0))**2)[0]\n",
    "    return (1/(2*m))*squaredError\n",
    "\n",
    "cost_function(X, y)"
   ]
  },
  {
   "cell_type": "markdown",
   "metadata": {},
   "source": [
    "Showing the cost function of a few values of $\\theta_1$ in a plot"
   ]
  },
  {
   "cell_type": "code",
   "execution_count": 6,
   "metadata": {
    "ExecuteTime": {
     "end_time": "2017-07-20T17:49:39.220919Z",
     "start_time": "2017-07-20T17:49:38.293085Z"
    }
   },
   "outputs": [
    {
     "data": {
      "image/png": "[encoded data removed]",
      "text/plain": [
       "<matplotlib.figure.Figure at 0x2b64d8dcda0>"
      ]
     },
     "metadata": {},
     "output_type": "display_data"
    },
    {
     "name": "stdout",
     "output_type": "stream",
     "text": [
      "Theta_1 1.5: 25.6588949339\n",
      "Theta_1 1: 7.44585554293\n",
      "Theta_1 0.5: 9.58380185744\n"
     ]
    }
   ],
   "source": [
    "ax = dfRest.plot.scatter(x='Population', y='Profit',\n",
    "                         title='Restaurant Profits by Population')\n",
    "\n",
    "plt.xlabel(\"Population of City in 10'000s\")\n",
    "plt.ylabel(\"Profit in $10'000s\")\n",
    "\n",
    "plt.plot([x*1.5 for x in np.linspace(start=0, stop=25, num=26)],\n",
    "         label='$\\Theta_1$ = 1.5', alpha=0.7)\n",
    "plt.plot([x for x in np.linspace(start=0, stop=25, num=26)],\n",
    "         label='$\\Theta_1$ = 1', alpha=0.7)\n",
    "plt.plot([x*0.5 for x in np.linspace(start=0, stop=25, num=26)],\n",
    "         label='$\\Theta_1$ = 0.5', alpha=0.7)\n",
    "\n",
    "ax.legend(loc=2)\n",
    "\n",
    "plt.show()\n",
    "\n",
    "print('Theta_1 1.5:', cost_function(X, y, theta=[[0],[1.5]]))\n",
    "print('Theta_1 1:', cost_function(X, y, theta=[[0],[1]]))\n",
    "print('Theta_1 0.5:', cost_function(X, y, theta=[[0],[0.5]]))"
   ]
  },
  {
   "cell_type": "markdown",
   "metadata": {},
   "source": [
    "### Gradient Descent\n",
    "\n",
    "Repeat until convergence:\n",
    "\n",
    "$\\theta_0 := \\theta_0 - \\alpha \\frac{1}{m} \\sum_{i=1}^{m} (h_\\theta(x^{(i)})-y^{(i)})$\n",
    "\n",
    "$\\theta_1 := \\theta_1 - \\alpha \\frac{1}{m} \\sum_{i=1}^{m} (h_\\theta(x^{(i)})-y^{(i)}) \\cdot x^{(i)}$\n",
    "\n",
    "- Notation:\n",
    "\n",
    "    - $\\theta_0$: Intercept\n",
    "\n",
    "    - $\\theta_1$: Coefficient of the regressor.  Statisticians will write this as $\\beta_1$\n",
    "\n",
    "    - $m$: Number of records\n",
    "\n",
    "    - $i$: Index of the record (e.x. if $i = 46$, then 46th row)\n",
    "    \n",
    "    - $\\alpha$: Learning rate (e.g. size of step for gradient descent to take at each iteration)\n",
    "    \n",
    "Alternatively, assume the $x_0 = 1$, to use the more convenient expression:\n",
    "\n",
    "$\\theta_j := \\theta_j - \\alpha \\frac{1}{m} \\sum_{i=1}^{m} (h_\\theta(x^{(i)})-y^{(i)}) \\cdot x_j^{(i)}$"
   ]
  },
  {
   "cell_type": "code",
   "execution_count": 7,
   "metadata": {
    "ExecuteTime": {
     "end_time": "2017-07-20T17:49:41.979514Z",
     "start_time": "2017-07-20T17:49:39.227923Z"
    }
   },
   "outputs": [
    {
     "name": "stdout",
     "output_type": "stream",
     "text": [
      "Theta 0: -3.6302914394\n",
      "Theta 1: 1.16636235034\n"
     ]
    }
   ],
   "source": [
    "def gradient_descent(X, y, alpha, iterations):\n",
    "    \"\"\"\n",
    "    Batch gradient descent\n",
    "    Calculates and stores the cost at each iteration for plotting\n",
    "    \"\"\"\n",
    "    costIteration = []  # For storing the cost function at each iteration\n",
    "    theta = [[0] for x in np.zeros(X.shape[1])]  # Initializing thetas with 0s\n",
    "    m = y.size\n",
    "\n",
    "    for i in np.arange(iterations):\n",
    "        h = X.dot(theta)\n",
    "        theta = theta - alpha * \\\n",
    "            (1 / m) * (np.dot(X.values.T, (h.subtract(y, axis=0))))\n",
    "        costIteration.append(cost_function(X, y, theta))\n",
    "    return (theta, costIteration)\n",
    "\n",
    "\n",
    "# Setting parameters per exercise instructions\n",
    "alpha = 0.01\n",
    "iterations = 1500\n",
    "\n",
    "# Running on the data and showing the values of theta\n",
    "pt1GradientDescent = gradient_descent(X, y, alpha=alpha, iterations=iterations)\n",
    "pt1Theta = pt1GradientDescent[0].ravel()\n",
    "print('Theta 0:', pt1Theta[0])\n",
    "print('Theta 1:', pt1Theta[1])"
   ]
  },
  {
   "cell_type": "code",
   "execution_count": 8,
   "metadata": {
    "ExecuteTime": {
     "end_time": "2017-07-20T17:49:42.272376Z",
     "start_time": "2017-07-20T17:49:41.986522Z"
    }
   },
   "outputs": [
    {
     "data": {
      "text/plain": [
       "<matplotlib.text.Text at 0x2b64d8f86d8>"
      ]
     },
     "execution_count": 8,
     "metadata": {},
     "output_type": "execute_result"
    },
    {
     "data": {
      "image/png": "[encoded data removed]",
      "text/plain": [
       "<matplotlib.figure.Figure at 0x2b64db8c2b0>"
      ]
     },
     "metadata": {},
     "output_type": "display_data"
    }
   ],
   "source": [
    "plt.plot(pt1GradientDescent[1])\n",
    "plt.title('Gradient Descent')\n",
    "plt.ylabel('Cost $J(\\Theta)$')\n",
    "plt.xlabel('Iteration')"
   ]
  },
  {
   "cell_type": "markdown",
   "metadata": {},
   "source": [
    "Displaying predictions on top of the data"
   ]
  },
  {
   "cell_type": "code",
   "execution_count": 9,
   "metadata": {
    "ExecuteTime": {
     "end_time": "2017-07-20T17:49:42.610698Z",
     "start_time": "2017-07-20T17:49:42.278382Z"
    }
   },
   "outputs": [
    {
     "data": {
      "text/plain": [
       "<matplotlib.legend.Legend at 0x2b64ed58f98>"
      ]
     },
     "execution_count": 9,
     "metadata": {},
     "output_type": "execute_result"
    },
    {
     "data": {
      "image/png": "[encoded data removed]",
      "text/plain": [
       "<matplotlib.figure.Figure at 0x2b64db4edd8>"
      ]
     },
     "metadata": {},
     "output_type": "display_data"
    }
   ],
   "source": [
    "# Generating the predictions using our acquired values of theta\n",
    "dfRest['Prediction'] = pt1Theta[0] + dfRest['Population']*pt1Theta[1]\n",
    "\n",
    "ax = dfRest.plot.scatter(x='Population', y='Profit',\n",
    "                         title='Restaurant Profits by Population')\n",
    "\n",
    "plt.xlabel(\"Population of City in 10'000s\")\n",
    "plt.ylabel(\"Profit in $10'000s\")\n",
    "\n",
    "ax.plot(dfRest['Population'], dfRest['Prediction'], label='Prediction')\n",
    "\n",
    "ax.legend(loc=2)"
   ]
  },
  {
   "cell_type": "markdown",
   "metadata": {},
   "source": [
    "### Normal Equation\n",
    "\n",
    "The normal equation is another way to find the optimal values for $\\theta$.  Unlike gradient descent, it does not take multiple iterations, but it does not handle large data sets due to being $O(n^3)$.\n",
    "\n",
    "The equation is $\\theta = (X^T X)^{-1}X^Ty$\n",
    "\n",
    "- Notation:\n",
    "\n",
    "    - $\\theta$: Coefficient of the regressor\n",
    "    \n",
    "    - $X$: Regressors in a long format\n",
    "    \n",
    "        - E.x. $x^{(i)} = \\begin{bmatrix} x_1^{(i)} \\\\ x_2^{(i)} \\\\ \\vdots \\\\ x_n^{(i)} \\end{bmatrix}$\n",
    "        \n",
    "            - $i$: Index of the record (e.x. if $i = 46$, then 46th row)\n",
    "            \n",
    "            - $n$: Number of features\n",
    "            \n",
    "    - $X^T$: Transposed regressors (in a wide format)\n",
    "    \n",
    "        - E.x. $x^{(i)} = \\begin{bmatrix} x_1^{(i)}, x_2^{(i)}, \\dots, x_n^{(i)} \\end{bmatrix}$\n",
    "        \n",
    "            - $i$: Index of the record (e.x. if $i = 46$, then 46th row)\n",
    "            \n",
    "            - $n$: Number of features\n",
    "            \n",
    "    - $y$: Target variable\n",
    "    \n",
    "        - E.x. $y = \\begin{bmatrix} y_1 \\\\ y_2 \\\\ \\vdots \\\\ y_m \\end{bmatrix}$\n",
    "        \n",
    "            - $m$: Number of records"
   ]
  },
  {
   "cell_type": "code",
   "execution_count": 10,
   "metadata": {
    "ExecuteTime": {
     "end_time": "2017-07-20T17:49:42.660236Z",
     "start_time": "2017-07-20T17:49:42.616206Z"
    }
   },
   "outputs": [
    {
     "data": {
      "text/plain": [
       "array([-3.89578088,  1.19303364])"
      ]
     },
     "execution_count": 10,
     "metadata": {},
     "output_type": "execute_result"
    }
   ],
   "source": [
    "def normal_equation(X, y):\n",
    "    \"\"\"Returns the optimal values of theta\"\"\"\n",
    "    if type(X) is not np.ndarray:\n",
    "        X = np.array(X)\n",
    "    if type(y) is not np.ndarray:\n",
    "        y = np.array(y)\n",
    "        \n",
    "    inverseX = np.linalg.inv(X.T.dot(X))\n",
    "    return (inverseX.dot(X.T)).dot(y)\n",
    "\n",
    "pt1normalEquation = normal_equation(X, y)\n",
    "pt1normalEquation"
   ]
  },
  {
   "cell_type": "markdown",
   "metadata": {},
   "source": [
    "Gathering the parameters from using scikit-learn for comparison"
   ]
  },
  {
   "cell_type": "code",
   "execution_count": 11,
   "metadata": {
    "ExecuteTime": {
     "end_time": "2017-07-20T17:49:42.734298Z",
     "start_time": "2017-07-20T17:49:42.666241Z"
    }
   },
   "outputs": [
    {
     "name": "stdout",
     "output_type": "stream",
     "text": [
      "Theta 0 -3.89578087831\n",
      "Theta 1 : 1.19303364419\n"
     ]
    }
   ],
   "source": [
    "model = LinearRegression()\n",
    "model.fit(X, y)\n",
    "\n",
    "for theta in enumerate(model.coef_):\n",
    "    if theta[0] == 0:  # Appears as 0\n",
    "        print('Theta 0', model.intercept_)\n",
    "    else:\n",
    "        print('Theta', theta[0], ':', theta[1])"
   ]
  },
  {
   "cell_type": "markdown",
   "metadata": {},
   "source": [
    "Comparing the parameters of all three methods"
   ]
  },
  {
   "cell_type": "code",
   "execution_count": 12,
   "metadata": {
    "ExecuteTime": {
     "end_time": "2017-07-20T17:49:42.765322Z",
     "start_time": "2017-07-20T17:49:42.739302Z"
    }
   },
   "outputs": [
    {
     "data": {
      "text/html": [
       "<div>\n",
       "<style>\n",
       "    .dataframe thead tr:only-child th {\n",
       "        text-align: right;\n",
       "    }\n",
       "\n",
       "    .dataframe thead th {\n",
       "        text-align: left;\n",
       "    }\n",
       "\n",
       "    .dataframe tbody tr th {\n",
       "        vertical-align: top;\n",
       "    }\n",
       "</style>\n",
       "<table border=\"1\" class=\"dataframe\">\n",
       "  <thead>\n",
       "    <tr style=\"text-align: right;\">\n",
       "      <th></th>\n",
       "      <th>Theta0</th>\n",
       "      <th>Theta1</th>\n",
       "    </tr>\n",
       "  </thead>\n",
       "  <tbody>\n",
       "    <tr>\n",
       "      <th>NormalEquation</th>\n",
       "      <td>-3.895781</td>\n",
       "      <td>1.193034</td>\n",
       "    </tr>\n",
       "    <tr>\n",
       "      <th>GradientDescent</th>\n",
       "      <td>-3.630291</td>\n",
       "      <td>1.166362</td>\n",
       "    </tr>\n",
       "    <tr>\n",
       "      <th>skLearn</th>\n",
       "      <td>-3.895781</td>\n",
       "      <td>1.193034</td>\n",
       "    </tr>\n",
       "  </tbody>\n",
       "</table>\n",
       "</div>"
      ],
      "text/plain": [
       "                   Theta0    Theta1\n",
       "NormalEquation  -3.895781  1.193034\n",
       "GradientDescent -3.630291  1.166362\n",
       "skLearn         -3.895781  1.193034"
      ]
     },
     "execution_count": 12,
     "metadata": {},
     "output_type": "execute_result"
    }
   ],
   "source": [
    "pd.DataFrame([pt1normalEquation, pt1Theta, [model.intercept_, model.coef_[1]]],\n",
    "             columns=['Theta0', 'Theta1'],\n",
    "             index=['NormalEquation', 'GradientDescent', 'skLearn'])"
   ]
  },
  {
   "cell_type": "markdown",
   "metadata": {},
   "source": [
    "---\n",
    "\n",
    "##  Part II: *Multivariate linear regression*\n",
    "\n",
    "Predicting housing prices with multiple variables"
   ]
  },
  {
   "cell_type": "code",
   "execution_count": 13,
   "metadata": {
    "ExecuteTime": {
     "end_time": "2017-07-20T17:49:42.818366Z",
     "start_time": "2017-07-20T17:49:42.771325Z"
    }
   },
   "outputs": [
    {
     "data": {
      "text/html": [
       "<div>\n",
       "<style>\n",
       "    .dataframe thead tr:only-child th {\n",
       "        text-align: right;\n",
       "    }\n",
       "\n",
       "    .dataframe thead th {\n",
       "        text-align: left;\n",
       "    }\n",
       "\n",
       "    .dataframe tbody tr th {\n",
       "        vertical-align: top;\n",
       "    }\n",
       "</style>\n",
       "<table border=\"1\" class=\"dataframe\">\n",
       "  <thead>\n",
       "    <tr style=\"text-align: right;\">\n",
       "      <th></th>\n",
       "      <th>Size</th>\n",
       "      <th>Bedrooms</th>\n",
       "      <th>Price</th>\n",
       "    </tr>\n",
       "  </thead>\n",
       "  <tbody>\n",
       "    <tr>\n",
       "      <th>0</th>\n",
       "      <td>2104</td>\n",
       "      <td>3</td>\n",
       "      <td>399900</td>\n",
       "    </tr>\n",
       "    <tr>\n",
       "      <th>1</th>\n",
       "      <td>1600</td>\n",
       "      <td>3</td>\n",
       "      <td>329900</td>\n",
       "    </tr>\n",
       "    <tr>\n",
       "      <th>2</th>\n",
       "      <td>2400</td>\n",
       "      <td>3</td>\n",
       "      <td>369000</td>\n",
       "    </tr>\n",
       "    <tr>\n",
       "      <th>3</th>\n",
       "      <td>1416</td>\n",
       "      <td>2</td>\n",
       "      <td>232000</td>\n",
       "    </tr>\n",
       "    <tr>\n",
       "      <th>4</th>\n",
       "      <td>3000</td>\n",
       "      <td>4</td>\n",
       "      <td>539900</td>\n",
       "    </tr>\n",
       "  </tbody>\n",
       "</table>\n",
       "</div>"
      ],
      "text/plain": [
       "   Size  Bedrooms   Price\n",
       "0  2104         3  399900\n",
       "1  1600         3  329900\n",
       "2  2400         3  369000\n",
       "3  1416         2  232000\n",
       "4  3000         4  539900"
      ]
     },
     "execution_count": 13,
     "metadata": {},
     "output_type": "execute_result"
    }
   ],
   "source": [
    "dfHouse = pd.read_csv('ex1/ex1data2.txt', header=None,\n",
    "                      names=['Size', 'Bedrooms', 'Price'])\n",
    "\n",
    "dfHouse.head()"
   ]
  },
  {
   "cell_type": "code",
   "execution_count": 14,
   "metadata": {
    "ExecuteTime": {
     "end_time": "2017-07-20T17:49:43.163621Z",
     "start_time": "2017-07-20T17:49:42.823370Z"
    }
   },
   "outputs": [
    {
     "data": {
      "text/plain": [
       "<matplotlib.text.Text at 0x2b64dc21978>"
      ]
     },
     "execution_count": 14,
     "metadata": {},
     "output_type": "execute_result"
    },
    {
     "data": {
      "image/png": "[encoded data removed]",
      "text/plain": [
       "<matplotlib.figure.Figure at 0x2b64ed75da0>"
      ]
     },
     "metadata": {},
     "output_type": "display_data"
    }
   ],
   "source": [
    "dfHouse.plot.scatter(x='Size', y='Price',\n",
    "                     alpha=0.7,\n",
    "                     s=dfHouse['Bedrooms']*30,  # Multiplying to scale up size\n",
    "                     title='House Price by Size')\n",
    "\n",
    "plt.xlabel(\"Size in sqft\")"
   ]
  },
  {
   "cell_type": "markdown",
   "metadata": {},
   "source": [
    "#### Feature normalization\n",
    "\n",
    "Normalizing the features with standardization due to house size being significantly larger than the number of bedrooms.  This will play nicer with our gradient descent function.\n",
    "\n",
    "Standardization: $x' = \\frac{x - \\bar{x}}{\\sigma}$"
   ]
  },
  {
   "cell_type": "code",
   "execution_count": 15,
   "metadata": {
    "ExecuteTime": {
     "end_time": "2017-07-20T17:49:43.200153Z",
     "start_time": "2017-07-20T17:49:43.169625Z"
    },
    "collapsed": true
   },
   "outputs": [],
   "source": [
    "def standard_scaler(x):\n",
    "    xScaled = (x - x.mean()) / x.std()\n",
    "    return xScaled\n",
    "\n",
    "dfHouse_scaled = dfHouse.apply(standard_scaler)"
   ]
  },
  {
   "cell_type": "code",
   "execution_count": 16,
   "metadata": {
    "ExecuteTime": {
     "end_time": "2017-07-20T17:49:43.236683Z",
     "start_time": "2017-07-20T17:49:43.206662Z"
    }
   },
   "outputs": [
    {
     "data": {
      "text/html": [
       "<div>\n",
       "<style>\n",
       "    .dataframe thead tr:only-child th {\n",
       "        text-align: right;\n",
       "    }\n",
       "\n",
       "    .dataframe thead th {\n",
       "        text-align: left;\n",
       "    }\n",
       "\n",
       "    .dataframe tbody tr th {\n",
       "        vertical-align: top;\n",
       "    }\n",
       "</style>\n",
       "<table border=\"1\" class=\"dataframe\">\n",
       "  <thead>\n",
       "    <tr style=\"text-align: right;\">\n",
       "      <th></th>\n",
       "      <th>x0</th>\n",
       "      <th>Size</th>\n",
       "      <th>Bedrooms</th>\n",
       "    </tr>\n",
       "  </thead>\n",
       "  <tbody>\n",
       "    <tr>\n",
       "      <th>0</th>\n",
       "      <td>1</td>\n",
       "      <td>0.130010</td>\n",
       "      <td>-0.223675</td>\n",
       "    </tr>\n",
       "    <tr>\n",
       "      <th>1</th>\n",
       "      <td>1</td>\n",
       "      <td>-0.504190</td>\n",
       "      <td>-0.223675</td>\n",
       "    </tr>\n",
       "    <tr>\n",
       "      <th>2</th>\n",
       "      <td>1</td>\n",
       "      <td>0.502476</td>\n",
       "      <td>-0.223675</td>\n",
       "    </tr>\n",
       "    <tr>\n",
       "      <th>3</th>\n",
       "      <td>1</td>\n",
       "      <td>-0.735723</td>\n",
       "      <td>-1.537767</td>\n",
       "    </tr>\n",
       "    <tr>\n",
       "      <th>4</th>\n",
       "      <td>1</td>\n",
       "      <td>1.257476</td>\n",
       "      <td>1.090417</td>\n",
       "    </tr>\n",
       "  </tbody>\n",
       "</table>\n",
       "</div>"
      ],
      "text/plain": [
       "   x0      Size  Bedrooms\n",
       "0   1  0.130010 -0.223675\n",
       "1   1 -0.504190 -0.223675\n",
       "2   1  0.502476 -0.223675\n",
       "3   1 -0.735723 -1.537767\n",
       "4   1  1.257476  1.090417"
      ]
     },
     "execution_count": 16,
     "metadata": {},
     "output_type": "execute_result"
    }
   ],
   "source": [
    "# Adding a column of 1s to better handle theta_0\n",
    "dfHouse_scaled['x0'] = 1\n",
    "\n",
    "# Creating arrays out of the predictors and response variables\n",
    "X = dfHouse_scaled[['x0', 'Size', 'Bedrooms']]\n",
    "y = dfHouse_scaled['Price']\n",
    "\n",
    "X.head()"
   ]
  },
  {
   "cell_type": "code",
   "execution_count": 17,
   "metadata": {
    "ExecuteTime": {
     "end_time": "2017-07-20T17:49:43.260700Z",
     "start_time": "2017-07-20T17:49:43.241687Z"
    }
   },
   "outputs": [
    {
     "data": {
      "text/plain": [
       "0.4893617021276595"
      ]
     },
     "execution_count": 17,
     "metadata": {},
     "output_type": "execute_result"
    }
   ],
   "source": [
    "cost_function(X,y,[[0],[0],[0]])"
   ]
  },
  {
   "cell_type": "code",
   "execution_count": 18,
   "metadata": {
    "ExecuteTime": {
     "end_time": "2017-07-20T17:49:46.026103Z",
     "start_time": "2017-07-20T17:49:43.270709Z"
    }
   },
   "outputs": [
    {
     "name": "stdout",
     "output_type": "stream",
     "text": [
      "Theta 0: -9.9270473638e-17\n",
      "Theta 1: 0.884042348978\n",
      "Theta 2: -0.0524551808647\n"
     ]
    }
   ],
   "source": [
    "pt2GradientDescent = gradient_descent(X, y, alpha=alpha, iterations=iterations)\n",
    "pt2Theta = pt2GradientDescent[0].ravel()\n",
    "print('Theta 0:', pt2Theta[0])\n",
    "print('Theta 1:', pt2Theta[1])\n",
    "print('Theta 2:', pt2Theta[2])"
   ]
  },
  {
   "cell_type": "markdown",
   "metadata": {},
   "source": [
    "Comparing the parameters of all three methods"
   ]
  },
  {
   "cell_type": "code",
   "execution_count": 19,
   "metadata": {
    "ExecuteTime": {
     "end_time": "2017-07-20T17:49:46.082139Z",
     "start_time": "2017-07-20T17:49:46.033105Z"
    }
   },
   "outputs": [
    {
     "data": {
      "text/html": [
       "<div>\n",
       "<style>\n",
       "    .dataframe thead tr:only-child th {\n",
       "        text-align: right;\n",
       "    }\n",
       "\n",
       "    .dataframe thead th {\n",
       "        text-align: left;\n",
       "    }\n",
       "\n",
       "    .dataframe tbody tr th {\n",
       "        vertical-align: top;\n",
       "    }\n",
       "</style>\n",
       "<table border=\"1\" class=\"dataframe\">\n",
       "  <thead>\n",
       "    <tr style=\"text-align: right;\">\n",
       "      <th></th>\n",
       "      <th>Theta0</th>\n",
       "      <th>Theta1</th>\n",
       "      <th>Theta2</th>\n",
       "    </tr>\n",
       "  </thead>\n",
       "  <tbody>\n",
       "    <tr>\n",
       "      <th>NormalEquation</th>\n",
       "      <td>-1.040834e-16</td>\n",
       "      <td>0.884766</td>\n",
       "      <td>-0.053179</td>\n",
       "    </tr>\n",
       "    <tr>\n",
       "      <th>GradientDescent</th>\n",
       "      <td>-9.927047e-17</td>\n",
       "      <td>0.884042</td>\n",
       "      <td>-0.052455</td>\n",
       "    </tr>\n",
       "    <tr>\n",
       "      <th>skLearn</th>\n",
       "      <td>-9.268523e-17</td>\n",
       "      <td>0.884766</td>\n",
       "      <td>-0.053179</td>\n",
       "    </tr>\n",
       "  </tbody>\n",
       "</table>\n",
       "</div>"
      ],
      "text/plain": [
       "                       Theta0    Theta1    Theta2\n",
       "NormalEquation  -1.040834e-16  0.884766 -0.053179\n",
       "GradientDescent -9.927047e-17  0.884042 -0.052455\n",
       "skLearn         -9.268523e-17  0.884766 -0.053179"
      ]
     },
     "execution_count": 19,
     "metadata": {},
     "output_type": "execute_result"
    }
   ],
   "source": [
    "pt2normalEquation = normal_equation(X, y)\n",
    "\n",
    "model = LinearRegression()\n",
    "model.fit(X, y)\n",
    "\n",
    "pd.DataFrame([pt2normalEquation, pt2Theta,\n",
    "             [model.intercept_, model.coef_[1], model.coef_[2]]],\n",
    "             columns=['Theta0', 'Theta1', 'Theta2'],\n",
    "             index=['NormalEquation', 'GradientDescent', 'skLearn'])"
   ]
  },
  {
   "cell_type": "code",
   "execution_count": 20,
   "metadata": {
    "ExecuteTime": {
     "end_time": "2017-07-20T17:49:46.566831Z",
     "start_time": "2017-07-20T17:49:46.097151Z"
    }
   },
   "outputs": [
    {
     "data": {
      "text/plain": [
       "<matplotlib.text.Text at 0x2b64ed2deb8>"
      ]
     },
     "execution_count": 20,
     "metadata": {},
     "output_type": "execute_result"
    },
    {
     "data": {
      "image/png": "[encoded data removed]",
      "text/plain": [
       "<matplotlib.figure.Figure at 0x2b64ed3f9b0>"
      ]
     },
     "metadata": {},
     "output_type": "display_data"
    }
   ],
   "source": [
    "plt.plot(pt2GradientDescent[1])\n",
    "plt.title('Gradient Descent')\n",
    "plt.ylabel('Cost $J(\\Theta)$')\n",
    "plt.xlabel('Iteration')"
   ]
  },
  {
   "cell_type": "markdown",
   "metadata": {},
   "source": [
    "Displaying predictions on top of the data"
   ]
  },
  {
   "cell_type": "code",
   "execution_count": 21,
   "metadata": {
    "ExecuteTime": {
     "end_time": "2017-07-20T17:49:47.004550Z",
     "start_time": "2017-07-20T17:49:46.571833Z"
    }
   },
   "outputs": [
    {
     "data": {
      "text/plain": [
       "<matplotlib.legend.Legend at 0x2b64f2e3e80>"
      ]
     },
     "execution_count": 21,
     "metadata": {},
     "output_type": "execute_result"
    },
    {
     "data": {
      "image/png": "[encoded data removed]",
      "text/plain": [
       "<matplotlib.figure.Figure at 0x2b64f238e80>"
      ]
     },
     "metadata": {},
     "output_type": "display_data"
    }
   ],
   "source": [
    "# Generating the predictions using our acquired values of theta\n",
    "dfHouse_scaled['Prediction'] = pt2Theta[0] + \\\n",
    "                               dfHouse_scaled['Size']*pt2Theta[1] + \\\n",
    "                               dfHouse_scaled['Bedrooms']*pt2Theta[2]\n",
    "\n",
    "ax = dfHouse_scaled.plot.scatter(x='Size', y='Price',\n",
    "                     alpha=0.7,\n",
    "                     s=dfHouse['Bedrooms']*30,  # Multiplying to scale up size\n",
    "                     title='House Price by Size')\n",
    "\n",
    "plt.xlabel(\"Scaled Size\")\n",
    "plt.ylabel(\"Scaled Price\")\n",
    "\n",
    "ax.plot(dfHouse_scaled['Size'], dfHouse_scaled['Prediction'],\n",
    "        label='Prediction')\n",
    "\n",
    "ax.legend(loc=2)"
   ]
  },
  {
   "cell_type": "markdown",
   "metadata": {},
   "source": [
    "Choosing $\\alpha$"
   ]
  },
  {
   "cell_type": "code",
   "execution_count": 22,
   "metadata": {
    "ExecuteTime": {
     "end_time": "2017-07-20T17:49:57.711117Z",
     "start_time": "2017-07-20T17:49:47.008904Z"
    }
   },
   "outputs": [
    {
     "name": "stdout",
     "output_type": "stream",
     "text": [
      "Wall time: 10.7 s\n"
     ]
    }
   ],
   "source": [
    "%%time\n",
    "\n",
    "pt2GradientDescent001 = gradient_descent(X, y, alpha=0.001,\n",
    "                                         iterations=iterations)\n",
    "pt2GradientDescent01 = gradient_descent(X, y, alpha=0.01,\n",
    "                                        iterations=iterations)\n",
    "pt2GradientDescent1 = gradient_descent(X, y, alpha=0.1,\n",
    "                                       iterations=iterations)\n",
    "pt2GradientDescent10 = gradient_descent(X, y, alpha=1.0,\n",
    "                                        iterations=iterations)"
   ]
  },
  {
   "cell_type": "code",
   "execution_count": 23,
   "metadata": {
    "ExecuteTime": {
     "end_time": "2017-07-20T17:49:58.095294Z",
     "start_time": "2017-07-20T17:49:57.716070Z"
    }
   },
   "outputs": [
    {
     "data": {
      "text/plain": [
       "<matplotlib.text.Text at 0x2b64d8fc8d0>"
      ]
     },
     "execution_count": 23,
     "metadata": {},
     "output_type": "execute_result"
    },
    {
     "data": {
      "image/png": "[encoded data removed]",
      "text/plain": [
       "<matplotlib.figure.Figure at 0x2b64f2be0f0>"
      ]
     },
     "metadata": {},
     "output_type": "display_data"
    }
   ],
   "source": [
    "plt.plot(pt2GradientDescent001[1], label=\"Alpha = 0.001\")\n",
    "plt.plot(pt2GradientDescent01[1], label=\"Alpha = 0.01\")\n",
    "plt.plot(pt2GradientDescent1[1], label=\"Alpha = 0.1\")\n",
    "plt.plot(pt2GradientDescent10[1], label=\"Alpha = 1.0\")\n",
    "plt.legend()\n",
    "plt.title('Gradient Descent')\n",
    "plt.ylabel('Cost $J(\\Theta)$')\n",
    "plt.xlabel('Iteration')"
   ]
  }
 ],
 "metadata": {
  "kernelspec": {
   "display_name": "Python [default]",
   "language": "python",
   "name": "python3"
  },
  "language_info": {
   "codemirror_mode": {
    "name": "ipython",
    "version": 3
   },
   "file_extension": ".py",
   "mimetype": "text/x-python",
   "name": "python",
   "nbconvert_exporter": "python",
   "pygments_lexer": "ipython3",
   "version": "3.5.3"
  },
  "varInspector": {
   "cols": {
    "lenName": 16,
    "lenType": 16,
    "lenVar": 40
   },
   "kernels_config": {
    "python": {
     "delete_cmd_postfix": "",
     "delete_cmd_prefix": "del ",
     "library": "var_list.py",
     "varRefreshCmd": "print(var_dic_list())"
    },
    "r": {
     "delete_cmd_postfix": ") ",
     "delete_cmd_prefix": "rm(",
     "library": "var_list.r",
     "varRefreshCmd": "cat(var_dic_list()) "
    }
   },
   "types_to_exclude": [
    "module",
    "function",
    "builtin_function_or_method",
    "instance",
    "_Feature"
   ],
   "window_display": false
  }
 },
 "nbformat": 4,
 "nbformat_minor": 2
}
