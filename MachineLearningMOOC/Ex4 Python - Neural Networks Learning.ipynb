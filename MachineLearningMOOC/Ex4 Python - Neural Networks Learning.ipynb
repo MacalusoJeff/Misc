{
 "cells": [
  {
   "cell_type": "markdown",
   "metadata": {
    "ExecuteTime": {
     "end_time": "2017-06-20T22:02:22.082821Z",
     "start_time": "2017-06-20T22:02:22.054798Z"
    }
   },
   "source": [
    "# Exercise 4 - Python: Neural Networks Learning\n",
    "\n",
    "<img src=\"http://neuralnetworksanddeeplearning.com/images/tikz11.png\">\n",
    "\n",
    "## Part I: *Neural Networks*\n",
    "\n",
    "Recognizing handwritten digits.  Though the source is not explicitly mentioned, it is just like the [MNIST database](https://en.wikipedia.org/wiki/MNIST_database).\n",
    "\n",
    "Each value of $X$ will be a 20x20 grid of values representing the grayscale intensity at that location \"unrolled\" into a 400-dimensional vector.  Here is an example for the first number in our data, $X^{(1)}$:\n",
    "\n",
    "$\\hspace{1cm} X^{(1)} = \\begin{bmatrix}x_{(1, 1)}^{(1)},\\ x_{(1, 2)}^{(1)},\\ \\dots\\ x_{(1, 20)}^{(1)} \\\\\n",
    "                                    x_{(2, 1)}^{(1)},\\ x_{(2, 2)}^{(1)},\\ \\dots\\ x_{(2, 20)}^{(1)} \\\\\n",
    "                                    \\vdots \\\\ \n",
    "                                    x_{(20, 1)}^{(1)},\\ x_{(20, 2)}^{(1)},\\ \\dots\\ x_{(20, 20)}^{(1)} \\\\ \n",
    "                    \\end{bmatrix}\n",
    "\\rightarrow \\begin{bmatrix} x_1^{(1)},\\ x_2^{(1)},\\ \\dots\\ x_{400}^{(1)} \\end{bmatrix}\n",
    "\\rightarrow (x^{(1)})^T$\n",
    "\n",
    "Here is our collection of all of the numbers for $X$:\n",
    "\n",
    "$\\hspace{1cm} X = \\begin{bmatrix} (x^{(1)})^T \\\\ (x^{(2)})^T \\\\ \\vdots \\\\ (x^{(400)})^T \\end{bmatrix}$\n",
    "\n",
    "---\n",
    "\n",
    "Beginning with package imports, data loading, and initial visualization"
   ]
  },
  {
   "cell_type": "code",
   "execution_count": 1,
   "metadata": {
    "ExecuteTime": {
     "end_time": "2017-06-22T23:07:48.951568Z",
     "start_time": "2017-06-22T23:07:46.578072Z"
    },
    "collapsed": true,
    "scrolled": true
   },
   "outputs": [],
   "source": [
    "import numpy as np\n",
    "import pandas as pd\n",
    "from math import floor, ceil  # Used in calculating subplot parameters\n",
    "from scipy.optimize import minimize  # Discovering optimal parameters\n",
    "from sklearn.preprocessing import OneHotEncoder  # Feature transformation\n",
    "import matplotlib.pyplot as plt\n",
    "\n",
    "# For comparing answers\n",
    "from sklearn.linear_model import LogisticRegression\n",
    "from sklearn.neural_network import MLPClassifier\n",
    "\n",
    "import scipy.io as sio  # Used to load the Octave/MATLAB *.mat files\n",
    "\n",
    "plt.style.use('ggplot')\n",
    "\n",
    "%matplotlib inline"
   ]
  },
  {
   "cell_type": "markdown",
   "metadata": {},
   "source": [
    "Note: y has 0 listed as 10, but we will be leaving this alone until our final predictions since the thetas we are provided for the first part of the exercise are structured for this.  In other words, it would be more trouble than it's worth to reshape our provided thetas."
   ]
  },
  {
   "cell_type": "code",
   "execution_count": 2,
   "metadata": {
    "ExecuteTime": {
     "end_time": "2017-06-22T23:07:49.160708Z",
     "start_time": "2017-06-22T23:07:48.957572Z"
    },
    "code_folding": [],
    "scrolled": true
   },
   "outputs": [
    {
     "name": "stdout",
     "output_type": "stream",
     "text": [
      "(5000, 400)\n"
     ]
    },
    {
     "data": {
      "text/plain": [
       "array([[ 0.,  0.,  0., ...,  0.,  0.,  0.],\n",
       "       [ 0.,  0.,  0., ...,  0.,  0.,  0.],\n",
       "       [ 0.,  0.,  0., ...,  0.,  0.,  0.],\n",
       "       ..., \n",
       "       [ 0.,  0.,  0., ...,  0.,  0.,  0.],\n",
       "       [ 0.,  0.,  0., ...,  0.,  0.,  0.],\n",
       "       [ 0.,  0.,  0., ...,  0.,  0.,  0.]])"
      ]
     },
     "execution_count": 2,
     "metadata": {},
     "output_type": "execute_result"
    }
   ],
   "source": [
    "# Loading in the data from the .mat files\n",
    "data = sio.loadmat('ex4/ex4data1.mat')\n",
    "X, y = data['X'], data['y']\n",
    "\n",
    "# Flattening y from an array of arrays into one vector\n",
    "y = y.flatten()\n",
    "\n",
    "# Importing weights provided by the exercise\n",
    "weights = sio.loadmat('ex4/ex4weights.mat')\n",
    "theta1, theta2 = weights['Theta1'], weights['Theta2']\n",
    "\n",
    "print(X.shape)\n",
    "X"
   ]
  },
  {
   "cell_type": "code",
   "execution_count": 3,
   "metadata": {
    "ExecuteTime": {
     "end_time": "2017-06-22T23:08:02.792605Z",
     "start_time": "2017-06-22T23:07:49.167718Z"
    },
    "scrolled": false
   },
   "outputs": [
    {
     "data": {
      "image/png": "[encoded data removed]",
      "text/plain": [
       "<matplotlib.figure.Figure at 0x17d648c5d68>"
      ]
     },
     "metadata": {},
     "output_type": "display_data"
    }
   ],
   "source": [
    "# Randomly sampling 100 numbers to display\n",
    "# 1: excludes the intercept\n",
    "random100 = X[np.random.randint(X.shape[0], size=100), :]\n",
    "\n",
    "\n",
    "def plot_digits(digits, width=8, height=8):\n",
    "    \"\"\"Plots a grid of the supplied digits\"\"\"\n",
    "    # Creating the overall figure to fill with plots of the numbers\n",
    "    fig = plt.figure(figsize=(width, height))\n",
    "\n",
    "    # Calculates the number of columns/rows for the subplot grid\n",
    "    figShape = np.sqrt(digits.shape[0])\n",
    "\n",
    "    # Loop over numbers to plot into the overall figure\n",
    "    for i, number in enumerate(digits):  # Enumerating to include index\n",
    "        number = number.reshape(20, 20).T  # Reshape X into 20x20 array\n",
    "        ax = fig.add_subplot(floor(figShape),  # Rows\n",
    "                             ceil(figShape),  # Columns\n",
    "                             i + 1)  # Positioning\n",
    "        plt.imshow(number, cmap='gray')  # Plotting the number\n",
    "\n",
    "        # Removing unnecessary components for aesthetics\n",
    "        plt.grid(False)\n",
    "        plt.axis('off')\n",
    "        fig.subplots_adjust(wspace=0, hspace=0)\n",
    "\n",
    "    plt.show()\n",
    "\n",
    "\n",
    "plot_digits(digits=random100, width=7, height=7)"
   ]
  },
  {
   "cell_type": "markdown",
   "metadata": {},
   "source": [
    "### Feedforward and Cost Function\n",
    "\n",
    "$J(\\theta) = \\frac{1}{m} \\sum_{i=1}^m \\sum_{k=1}^K \\big[-y_k^{(i)}log((h_\\theta(x^{(i)}))_k) - (1-y_k^{(i)}) log(1-(h_\\theta(x^{(i)}))_k) \\big] + \\frac{\\lambda}{2m} \\big[\\sum_{j=1}^{25} \\sum_{k=1}^{400} (\\theta_{j, k}^{(1)})^2 +\n",
    "\\sum_{j=1}^{10} \\sum_{k=1}^{25} (\\theta_{j, k}^{(2)})^2 \\big]$\n",
    "\n",
    "Note: $h_\\theta(x^{(i)})_k = a^{(3)}_k$, or the activation of the $k$-th output unit\n",
    "\n",
    "#### Regularization Parameter\n",
    "\n",
    "$\\frac{\\lambda}{2m} \\big[\\sum_{j=1}^{25} \\sum_{k=1}^{400} (\\theta_{j, k}^{(1)})^2 +\n",
    "\\sum_{j=1}^{10} \\sum_{k=1}^{25} (\\theta_{j, k}^{(2)})^2 \\big]$\n",
    "\n",
    "Note: The regularization parameter ignores the bias units\n",
    "\n",
    "The exercise states that the unregularized cost function should be around $0.287629$, and the regularized cost function with $\\lambda = 1$ should be around $0.383770$"
   ]
  },
  {
   "cell_type": "code",
   "execution_count": 4,
   "metadata": {
    "ExecuteTime": {
     "end_time": "2017-06-22T23:08:03.266468Z",
     "start_time": "2017-06-22T23:08:02.796608Z"
    }
   },
   "outputs": [
    {
     "name": "stdout",
     "output_type": "stream",
     "text": [
      "Unregularized cost: 0.287629165161\n",
      "Regularized cost: 0.383769859091\n"
     ]
    }
   ],
   "source": [
    "def sigmoid(z):\n",
    "    \"\"\"\n",
    "    Calculates the sigmoid function for use as \n",
    "    the activation function in the neural network\n",
    "    \"\"\"\n",
    "    z = 1 / (1 + np.exp(-z))\n",
    "    return z\n",
    "\n",
    "def forward_propagate(thetas, X):\n",
    "    \"\"\"\n",
    "    Forward propagates a sequential neural network with the provided input\n",
    "    Assumes X does not contain the bias term\n",
    "    \n",
    "    Returns the following:\n",
    "    0: Numerical predictions\n",
    "    1: Class probabilities\n",
    "    2: Values of the nodes pre-activation (excluding input layer)\n",
    "    3: Values of the nodes post-activation (exluding input layer)\n",
    "    \"\"\"\n",
    "    h = X.copy()\n",
    "    \n",
    "    # Lists to store items 2 and 3 in\n",
    "    nodes = []\n",
    "    activations = []\n",
    "    activations.append(np.insert(h, 0, 1, axis=1))\n",
    "    \n",
    "    # Forward propagation\n",
    "    for theta in thetas:\n",
    "        h = np.insert(h, 0, 1, axis=1)  # Adding the bias term\n",
    "        h = h.dot(theta.T)  # Multiplying by the weights\n",
    "        nodes.append(h)\n",
    "        h = sigmoid(h)  # Activation function\n",
    "        activations.append(np.insert(h, 0, 1, axis=1))\n",
    "        \n",
    "    # Moves the class probabilities for digit 0 to the 0th index\n",
    "    classProbabilities = np.roll(h, 1)\n",
    "    \n",
    "    # Returns index with the highest value\n",
    "    prediction = np.argmax(classProbabilities, axis=1)\n",
    "\n",
    "    return prediction, h, nodes, activations\n",
    "\n",
    "\n",
    "def nn_cost(thetas, X, y, C=0.0):\n",
    "    \"\"\"\n",
    "    Returns the cost for a sequential neural network using the \n",
    "    forward_propagate function\n",
    "    \"\"\"\n",
    "    m = y.size\n",
    "    \n",
    "    # Generating class probabilities\n",
    "    h = forward_propagate(thetas, X)[1]\n",
    "    \n",
    "    # One hot encoding y into binary arrays for the cost function\n",
    "    y = OneHotEncoder().fit_transform(y.reshape(-1, 1)).toarray()\n",
    "\n",
    "    # Calculating the regularized cost\n",
    "    error = np.sum(-y * np.log(h) - (1 - y) * np.log(1 - h))\n",
    "\n",
    "    # Removing bias terms from regularization through np.delete()\n",
    "    regParameter = [np.sum(np.delete(theta, 0, axis=1)**2) for theta in thetas]\n",
    "    regParameter = (C / (2 * m)) * sum(regParameter)\n",
    "\n",
    "    cost = (1 / m) * error + regParameter\n",
    "    return cost\n",
    "\n",
    "print('Unregularized cost:',\n",
    "      nn_cost([theta1, theta2], X, y))\n",
    "print('Regularized cost:',\n",
    "      nn_cost([theta1, theta2], X, y, C=1.0))"
   ]
  },
  {
   "cell_type": "markdown",
   "metadata": {},
   "source": [
    "---\n",
    "\n",
    "##  Part II: *Backpropagation*\n",
    "\n",
    "Here we'll learn parameters for our neural network through backpropagation.  We have to first create two helper functions in order to conduct backpropagation:\n",
    "\n",
    "1. **restructure_theta:** The optimization function won't work with matrices, so we have to flatten our thetas into one long vector.  This function will allow us to reshape the vector back into the original matrices for theta in order to use it with the **forward_propagate** function.\n",
    "2. **sigmoid_gradient:** The partial derivative of the sigmoid function which will be used to help calculate the gradient in backpropagation\n",
    "\n",
    "After that, we will have to create new values for our initial $\\Theta^{(l)}$.  We can't use $0$s like we did in the previous exercises because this more or less causes our nodes to drop out.\n",
    "\n",
    "We'll then finally build the backpropogation function, and then proceed with optimizing our $\\Theta^{(l)}$ and generate predictions."
   ]
  },
  {
   "cell_type": "code",
   "execution_count": 5,
   "metadata": {
    "ExecuteTime": {
     "end_time": "2017-06-22T23:08:03.397060Z",
     "start_time": "2017-06-22T23:08:03.274974Z"
    }
   },
   "outputs": [
    {
     "name": "stdout",
     "output_type": "stream",
     "text": [
      "Original theta 2 shape: (10, 26)\n",
      "Reshaped theta 2 shape: (10, 26)\n"
     ]
    }
   ],
   "source": [
    "# Creating one long theta to plug into functions\n",
    "long_theta = np.concatenate((theta1.flatten(), theta2.flatten()))\n",
    "\n",
    "\n",
    "def restructure_theta(long_theta, thetas):\n",
    "    \"\"\"\n",
    "    Reshapes the long array of thetas into matrices for each theta\n",
    "    \"\"\"\n",
    "    reshaped_thetas = []\n",
    "    indices = 0\n",
    "    for i, theta in enumerate(thetas):\n",
    "        if i == 0:\n",
    "            reshaped = np.reshape(\n",
    "                long_theta[:thetas[i].size], thetas[i].shape)\n",
    "            reshaped_thetas.append(reshaped)\n",
    "            indices += reshaped.size\n",
    "        else:\n",
    "            reshaped = np.reshape(\n",
    "                long_theta[indices:indices + thetas[i].size], thetas[i].shape)\n",
    "            reshaped_thetas.append(reshaped)\n",
    "            indices += reshaped.size\n",
    "\n",
    "    return reshaped_thetas\n",
    "\n",
    "\n",
    "print('Original theta 2 shape:', theta2.shape)\n",
    "print('Reshaped theta 2 shape:', restructure_theta(\n",
    "    long_theta, [theta1, theta2])[1].shape)"
   ]
  },
  {
   "cell_type": "markdown",
   "metadata": {},
   "source": [
    "### Sigmoid Gradient\n",
    "\n",
    "$g'(z) = \\frac{d}{dz}g(z) = g(z)(1-g(z))$\n",
    "\n",
    "where\n",
    "\n",
    "$sigmoid(z)=g(z)=\\frac{1}{1+e^{-z}}$"
   ]
  },
  {
   "cell_type": "code",
   "execution_count": 6,
   "metadata": {
    "ExecuteTime": {
     "end_time": "2017-06-22T23:08:03.433585Z",
     "start_time": "2017-06-22T23:08:03.403564Z"
    },
    "scrolled": true
   },
   "outputs": [
    {
     "data": {
      "text/plain": [
       "0.25"
      ]
     },
     "execution_count": 6,
     "metadata": {},
     "output_type": "execute_result"
    }
   ],
   "source": [
    "def sigmoid_gradient(z):\n",
    "    \"\"\"Returns the gradient of a sigmoid function\"\"\"\n",
    "    gradient = np.multiply(sigmoid(z), (1 - sigmoid(z)))\n",
    "    return gradient\n",
    "\n",
    "sigmoid_gradient(0)"
   ]
  },
  {
   "cell_type": "markdown",
   "metadata": {},
   "source": [
    "### Random Initialization\n",
    "\n",
    "Randomly selecting values for $\\Theta^{(l)}$ uniformly in the range $[-\\epsilon_{init}, \\epsilon_{init}]$ since initial $\\Theta^{(l)}$ values of $0$ will more or less cancel out the neurons they are assigned to\n",
    "\n",
    "We will use the recommended approach for selecting $\\epsilon$ by using the number of units in the network:\n",
    "\n",
    "$\\epsilon_{init} =  \\frac{\\sqrt(6)}{\\sqrt{L_{in}+L_{out}}}$\n",
    "\n",
    "where\n",
    "\n",
    "$L_{in} = s_l$ and $L_{out} = s_{l+1}$, or the number of nodes in the input and output layers (excluding the bias nodes)"
   ]
  },
  {
   "cell_type": "code",
   "execution_count": 7,
   "metadata": {
    "ExecuteTime": {
     "end_time": "2017-06-22T23:08:03.471120Z",
     "start_time": "2017-06-22T23:08:03.440592Z"
    },
    "scrolled": true
   },
   "outputs": [
    {
     "data": {
      "text/plain": [
       "10285"
      ]
     },
     "execution_count": 7,
     "metadata": {},
     "output_type": "execute_result"
    }
   ],
   "source": [
    "# Num nodes in the input and output layers excl. bias nodes\n",
    "epsilon = np.sqrt(6) / np.sqrt(400 + 10)\n",
    "\n",
    "initialThetas = np.random.uniform(-epsilon, epsilon,\n",
    "                                  size=theta1.size + theta2.size)\n",
    "\n",
    "initialThetas.size"
   ]
  },
  {
   "cell_type": "markdown",
   "metadata": {},
   "source": [
    "### Backpropagation\n",
    "\n",
    "<img src=\"https://sebastianraschka.com/images/faq/visual-backpropagation/backpropagation.png\">\n",
    "\n",
    "As a reminder, backpropagation is a way to learn parameters for neural networks.  On a high level, we first propagate forward with initial parameters (which we created above by uniformly selecting between $[-\\epsilon_{init}, \\epsilon_{init}]$), then we obtain the error for our output nodes, and use that to do weighted averages moving backwards through the network to find which nodes in the hidden layer contributed to the error.  We can then calculate the gradient which tells us how we can adjust the parameters to decrease the error.  Finally, we pair it with an optimization algorithm in order to perform several iterations.\n",
    "\n",
    "Vectorized implementations of backpropagation exist, but Professor Ng stressed using a for loop that iterates through each training example for the sake of simplicity.  Here is the mechanical approach for performing gradient descent:\n",
    "\n",
    "$\\hspace{0.5cm}$ **Note:** These formulas are specific to our neural network with one hidden layer\n",
    "\n",
    "1. Set the input layer's values $(a^{(1)})$ to the $t$-th training example $x^{(t)}$.  Perform a feedforward pass to compute the activations $(z^{(2)}, a^{(2)}, z^{(3)}, a^{(3)})$ for layers 2 and 3.  Remember to add the $+1$ term to ensure the vectors of activation for layers $a^{(1)}$ and $a^{(2)}$ also include the bias unit.\n",
    "\n",
    "2. For each output unit $k$ in layer 3 (the output layer), set $$\\delta_k^{(3)} = (a_k^{(3)} - y_k)$$ where $y_k \\in \\{0,1\\}$ indicates whether the current training example belongs to class $k (y_k = 1)$, or if it belongs to a different class $(y_k = 0)$.  This is an \"error term\" that measures how much that node was \"responsible\" for any errors in the output.\n",
    "\n",
    "3. For the hidden layer $l=2$, set $$\\delta^{(2)} = (\\theta^{(2)})^T \\delta^{(3)}.*g'(z^{(2)})$$ This is the part that propagates backward, and like step 2, it is an \"error\" term that measures how much that node was \"responsible\" for any errors in the output.  However, we determine this by a weighted average of the error terms in the output layer $(l+1)$.\n",
    "\n",
    "4. Accumulate the gradient from this training example using the following formula.  Note that you should skip or remove $\\delta_0^{(2)}$ $$ \\Delta^{(l)} = \\Delta^{(l)} + \\delta^{(l+1)} (a^{(l)})^T$$\n",
    "\n",
    "5. Obtain the (unregularized) gradient for the neural network cost function by multiplying the accumulated gradients by $\\frac{1}{m}$: $$\\frac{\\partial}{\\partial \\theta_{ij}^{(l)}}J(\\Theta) = D_{ij}^{(l)} = \\frac{1}{m}\\Delta_{ij}^{(l)}$$\n",
    "\n",
    "5. Obtain the regularized gradient for the neural network cost function by multiplying the accumulated gradients by $\\frac{1}{m}$ and applying the regularization term: $$\\frac{\\partial}{\\partial \\theta_{ij}^{(l)}}J(\\Theta) = D_{ij}^{(l)} = \\begin{cases}\\frac{1}{m}\\Delta_{ij}^{(l)} & for\\ j=0 \\\\ \\frac{1}{m}\\Delta_{ij}^{(l)} + \\frac{\\lambda}{m}\\Theta_{ij}^{(l)} & for\\ j\\geq 1 \\end{cases}$$\n",
    "\n",
    "Using the obtained gradient, we can adjust the values of $\\Theta^{(l)}$ and do it all over again."
   ]
  },
  {
   "cell_type": "code",
   "execution_count": 8,
   "metadata": {
    "ExecuteTime": {
     "end_time": "2017-06-22T23:08:05.357128Z",
     "start_time": "2017-06-22T23:08:03.480620Z"
    }
   },
   "outputs": [
    {
     "data": {
      "text/plain": [
       "(7.2327315479954875,\n",
       " array([ -8.95145698e-03,  -1.94730824e-06,  -7.65684633e-06, ...,\n",
       "          1.92389766e-01,   2.29259867e-01,   1.87425220e-01]))"
      ]
     },
     "execution_count": 8,
     "metadata": {},
     "output_type": "execute_result"
    }
   ],
   "source": [
    "def backpropagate(long_theta, thetas, X, y, C=0.0):\n",
    "    \"\"\"\n",
    "    Calculates the gradients for provided thetas through \n",
    "    long_thetas is the vector of all thetas, and is the first parameter\n",
    "    since this is what the optimization changes\n",
    "\n",
    "    Also calculates the cost using nn_cost()\n",
    "    \"\"\"\n",
    "    m = y.size\n",
    "\n",
    "    # Reshaping long_theta into original form for forward_propagate()\n",
    "    reshaped_thetas = restructure_theta(long_theta, thetas)\n",
    "\n",
    "    # Gathering info from forward propagation\n",
    "    # h is class probabilities with 0 indexed at the end\n",
    "    _, h, nodes, activations = forward_propagate(reshaped_thetas, X)\n",
    "\n",
    "    cost = nn_cost(reshaped_thetas, X, y, C)\n",
    "\n",
    "    # Backpropagation\n",
    "    # One hot encoding y into binary arrays\n",
    "    y = OneHotEncoder().fit_transform(y.reshape(-1, 1)).toarray()\n",
    "    \n",
    "    # Creating initial deltas of 0 to be filled\n",
    "    delta1 = np.zeros(reshaped_thetas[0].shape)\n",
    "    delta2 = np.zeros(reshaped_thetas[1].shape)\n",
    "\n",
    "    # Looping through each individual digit in the training set\n",
    "    for digit in range(m):\n",
    "        # Step 1: Grabbing appropriate items for the backpropagation calculation\n",
    "        # Using matrix() to quickly reshape for linear algebra\n",
    "        input_nodes = np.matrix(activations[0][digit])\n",
    "        hidden_nodes = np.matrix(nodes[0][digit])\n",
    "        hidden_activation = np.matrix(activations[1][digit])\n",
    "        output_nodes = h[digit]\n",
    "        actual = y[digit]\n",
    "\n",
    "        # Step 2: Calculating delta 3 - the \"error term\" assigning responsibility\n",
    "        # of errors to nodes in the output layer\n",
    "        d3 = np.matrix(output_nodes - actual)\n",
    "        hidden_nodes = np.insert(hidden_nodes, 0, 1)  # Adding the bias term\n",
    "\n",
    "        # Step 3: Calculating delta 2 - the weighted average of error terms in\n",
    "        # the output layer to assign responsibility to nodes in the hidden layer\n",
    "        d2 = np.multiply((reshaped_thetas[1].T * d3.T).T,\n",
    "                         sigmoid_gradient(hidden_nodes))\n",
    "\n",
    "        # Step 4: Accumulating the gradients\n",
    "        delta1 = delta1 + (d2[:, 1:]).T * input_nodes\n",
    "        delta2 = delta2 + d3.T * hidden_activation\n",
    "\n",
    "    # Step 5: Obtaining the gradient for the cost function\n",
    "    delta1 = (1 / m) * delta1\n",
    "    delta2 = (1 / m) * delta2\n",
    "\n",
    "    # Adding the regularization terms\n",
    "    delta1[:, 1:] = delta1[:, 1:] + (reshaped_thetas[0][:, 1:] * C) / m\n",
    "    delta2[:, 1:] = delta2[:, 1:] + (reshaped_thetas[1][:, 1:] * C) / m\n",
    "\n",
    "    # Combining the gradients into one long gradient for the \n",
    "    # optimization function\n",
    "    gradient = np.concatenate((np.ravel(delta1), np.ravel(delta2)))\n",
    "\n",
    "    return cost, gradient\n",
    "\n",
    "\n",
    "backpropagate(initialThetas, [theta1, theta2], X, y, 1.0)"
   ]
  },
  {
   "cell_type": "markdown",
   "metadata": {
    "collapsed": true
   },
   "source": [
    "### Optimizing $\\Theta^{(l)}$ and Predictions"
   ]
  },
  {
   "cell_type": "code",
   "execution_count": 9,
   "metadata": {
    "ExecuteTime": {
     "end_time": "2017-06-22T23:13:19.383198Z",
     "start_time": "2017-06-22T23:08:05.363131Z"
    }
   },
   "outputs": [
    {
     "data": {
      "text/plain": [
       "     fun: 0.33420686759533424\n",
       "     jac: array([  1.80228134e-04,   1.68170235e-07,   6.70234684e-07, ...,\n",
       "         2.31815535e-05,   1.34060516e-05,   1.28535893e-04])\n",
       " message: 'Max. number of function evaluations reached'\n",
       "    nfev: 250\n",
       "     nit: 19\n",
       "  status: 3\n",
       " success: False\n",
       "       x: array([  4.70153482e-01,   8.40851174e-04,   3.35117342e-03, ...,\n",
       "         9.02116508e-01,  -1.95948715e+00,   1.56318992e+00])"
      ]
     },
     "execution_count": 9,
     "metadata": {},
     "output_type": "execute_result"
    }
   ],
   "source": [
    "# Takes ~5.5 minutes\n",
    "results = minimize(fun=backpropagate, x0=initialThetas,\n",
    "                   args=([theta1, theta2], X, y, 1.0),\n",
    "                   method='TNC', jac=True,\n",
    "                   options={'maxiter': 250})\n",
    "\n",
    "results"
   ]
  },
  {
   "cell_type": "code",
   "execution_count": 10,
   "metadata": {
    "ExecuteTime": {
     "end_time": "2017-06-22T23:13:19.545317Z",
     "start_time": "2017-06-22T23:13:19.388194Z"
    }
   },
   "outputs": [
    {
     "name": "stdout",
     "output_type": "stream",
     "text": [
      "Initial cost: 7.22771385928\n",
      "Optimized theta cost: 0.141417532217\n"
     ]
    }
   ],
   "source": [
    "initial1, initial2 = restructure_theta(initialThetas, [theta1, theta2])\n",
    "newTheta1, newTheta2 = restructure_theta(results['x'], [theta1, theta2])\n",
    "\n",
    "print('Initial cost:', nn_cost([initial1, initial2], X, y))\n",
    "print('Optimized theta cost:', nn_cost([newTheta1, newTheta2], X, y))"
   ]
  },
  {
   "cell_type": "code",
   "execution_count": 11,
   "metadata": {
    "ExecuteTime": {
     "end_time": "2017-06-22T23:13:19.647396Z",
     "start_time": "2017-06-22T23:13:19.549826Z"
    }
   },
   "outputs": [
    {
     "name": "stdout",
     "output_type": "stream",
     "text": [
      "Our Accuracy: 99.46000000000001%\n"
     ]
    }
   ],
   "source": [
    "predictions = forward_propagate([newTheta1, newTheta2], X)[0]\n",
    "\n",
    "results = pd.DataFrame({'Prediction': predictions,\n",
    "                        'Actual': np.where(y == 10, 0, y)})\n",
    "\n",
    "results['Correct'] = np.where(results['Actual'] == results['Prediction'],\n",
    "                              1, 0)\n",
    "\n",
    "print('Our Accuracy: {0}%'.format(results['Correct'].mean() * 100))"
   ]
  },
  {
   "cell_type": "markdown",
   "metadata": {},
   "source": [
    "---\n",
    "\n",
    "##  Part III: *Visualizing the hidden layer*\n",
    "\n",
    "Here we will visualize the representations captured by the hidden layer.  This is done by reshaping the hidden layer $\\Theta$ into a 20x20 matrix and plotting it.  This will give us an idea of the patterns our network is learning.  It's a similar idea of [eigenfaces](https://en.wikipedia.org/wiki/Eigenface) (even though the math behind them is different), and it is really cool!"
   ]
  },
  {
   "cell_type": "code",
   "execution_count": 12,
   "metadata": {
    "ExecuteTime": {
     "end_time": "2017-06-22T23:13:22.536970Z",
     "start_time": "2017-06-22T23:13:19.656903Z"
    }
   },
   "outputs": [
    {
     "data": {
      "image/png": "[encoded data removed]",
      "text/plain": [
       "<matplotlib.figure.Figure at 0x17d648c5208>"
      ]
     },
     "metadata": {},
     "output_type": "display_data"
    }
   ],
   "source": [
    "def plot_hidden_layer(theta, width=8, height=8):\n",
    "    \"\"\"\n",
    "    Visualizes the hidden layer by plotting the values of theta applied\n",
    "    to the input layer.  Darker sections correspond to heavier weights.\n",
    "    \"\"\"\n",
    "    # Creating the overall figure to fill with plots of the hidden layer\n",
    "    fig = plt.figure(figsize=(width, height))\n",
    "\n",
    "    # Calculates the number of columns/rows for the subplot grid\n",
    "    figShape = np.sqrt(theta.shape[0])\n",
    "\n",
    "    # Loop over thetas to plot into the overall figure\n",
    "    for i, node in enumerate(theta):  # Enumerating to include index\n",
    "        node = node.reshape(20, 20).T  # Reshape theta into 20x20 array\n",
    "        ax = fig.add_subplot(floor(figShape),  # Rows\n",
    "                             ceil(figShape),  # Columns\n",
    "                             i + 1)  # Positioning\n",
    "        plt.imshow(node)  # Plotting the theta\n",
    "\n",
    "        # Removing unnecessary components for aesthetics\n",
    "        plt.grid(False)\n",
    "        plt.axis('off')\n",
    "        fig.subplots_adjust(wspace=0, hspace=0)\n",
    "\n",
    "    plt.show()\n",
    "\n",
    "\n",
    "plot_hidden_layer(theta=newTheta1[:, 1:], width=9, height=9)"
   ]
  }
 ],
 "metadata": {
  "anaconda-cloud": {},
  "kernelspec": {
   "display_name": "Python [default]",
   "language": "python",
   "name": "python3"
  },
  "language_info": {
   "codemirror_mode": {
    "name": "ipython",
    "version": 3
   },
   "file_extension": ".py",
   "mimetype": "text/x-python",
   "name": "python",
   "nbconvert_exporter": "python",
   "pygments_lexer": "ipython3",
   "version": "3.5.3"
  },
  "notify_time": "30",
  "varInspector": {
   "cols": {
    "lenName": 16,
    "lenType": 16,
    "lenVar": 40
   },
   "kernels_config": {
    "python": {
     "delete_cmd_postfix": "",
     "delete_cmd_prefix": "del ",
     "library": "var_list.py",
     "varRefreshCmd": "print(var_dic_list())"
    },
    "r": {
     "delete_cmd_postfix": ") ",
     "delete_cmd_prefix": "rm(",
     "library": "var_list.r",
     "varRefreshCmd": "cat(var_dic_list()) "
    }
   },
   "oldHeight": 571,
   "position": {
    "height": "593px",
    "left": "1013px",
    "right": "40px",
    "top": "32px",
    "width": "483px"
   },
   "types_to_exclude": [
    "module",
    "function",
    "builtin_function_or_method",
    "instance",
    "_Feature"
   ],
   "varInspector_section_display": "block",
   "window_display": false
  }
 },
 "nbformat": 4,
 "nbformat_minor": 2
}
