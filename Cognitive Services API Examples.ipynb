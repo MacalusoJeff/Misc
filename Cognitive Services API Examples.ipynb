{
 "cells": [
  {
   "cell_type": "markdown",
   "metadata": {},
   "source": [
    "# Microsoft Cognitive Services Examples\n",
    "\n",
    "- [Overview](https://azure.microsoft.com/en-us/services/cognitive-services/?v=17.29)\n",
    "- [Documentation & API Reference](https://docs.microsoft.com/en-us/azure/cognitive-services/)\n",
    "\n",
    "**Note:** This notebook is for Python 3.  If using Python 2, check the examples linked in each section for the corresponding Python 2 code.\n",
    "\n",
    "\n",
    "\n",
    "**delete this** https://github.com/gfhuertac/maka/tree/master/samples"
   ]
  },
  {
   "cell_type": "code",
   "execution_count": 1,
   "metadata": {
    "ExecuteTime": {
     "end_time": "2017-10-03T00:10:54.501814Z",
     "start_time": "2017-10-03T00:10:50.821067Z"
    },
    "collapsed": true
   },
   "outputs": [],
   "source": [
    "import sys\n",
    "import base64\n",
    "import json\n",
    "import matplotlib.pyplot as plt\n",
    "import matplotlib.image as mpimg  # Displays images\n",
    "\n",
    "# These libraries are specific to Python 3\n",
    "import http.client, urllib.request, urllib.parse, urllib.error\n",
    "import requests\n",
    "    \n",
    "# Displays matplotlib plots in the notebook\n",
    "%matplotlib inline\n",
    "\n",
    "# The region needs to match the region of the subscription\n",
    "region = 'westcentralus.api.cognitive.microsoft.com'"
   ]
  },
  {
   "cell_type": "markdown",
   "metadata": {},
   "source": [
    "---\n",
    "\n",
    "## Vision APIs\n",
    "\n",
    "- **Computer Vision:**  The broadest API of the three.  This returns a description of the image, categories, tags, colors, faces, and more.\n",
    "\n",
    "- **Face:**  This specifically gives details about faces in an image.  Age, gender, emotion, hair color, facial hair, if glasses are present, etc.\n",
    "\n",
    "- **Emotion:**  This is a lightweight version of the face API that only includes the emotions of the faces and the face locations.\n",
    "\n",
    "For these examples, we'll use my Github profile picture:\n",
    "\n",
    "<img src=\"https://avatars3.githubusercontent.com/u/13501239?v=4&s=460\" style=\"width: 300px\">\n",
    "\n",
    "This is only a 420x420 picture, so the results won't be as impressive as higher resolution images will be.  However, we'll still find accurate results from our API calls."
   ]
  },
  {
   "cell_type": "markdown",
   "metadata": {},
   "source": [
    "### Computer Vision\n",
    "\n",
    "- [Documentation](https://docs.microsoft.com/en-us/azure/cognitive-services/computer-vision/home)\n",
    "- [API Reference](https://westus.dev.cognitive.microsoft.com/docs/services/56f91f2d778daf23d8ec6739/operations/56f91f2e778daf14a499e1fa)\n",
    "- [Examples](https://docs.microsoft.com/en-us/azure/cognitive-services/computer-vision/quickstarts/python)\n",
    "\n",
    "This will return a description of the image, the categories, tags, colors, faces, and more."
   ]
  },
  {
   "cell_type": "code",
   "execution_count": 2,
   "metadata": {
    "ExecuteTime": {
     "end_time": "2017-10-03T00:10:57.680806Z",
     "start_time": "2017-10-03T00:10:54.504495Z"
    }
   },
   "outputs": [
    {
     "name": "stdout",
     "output_type": "stream",
     "text": [
      "Response:\n",
      "{\n",
      "  \"categories\": [\n",
      "    {\n",
      "      \"name\": \"people_\",\n",
      "      \"score\": 0.55859375\n",
      "    }\n",
      "  ],\n",
      "  \"color\": {\n",
      "    \"accentColor\": \"865A45\",\n",
      "    \"dominantColorBackground\": \"Grey\",\n",
      "    \"dominantColorForeground\": \"White\",\n",
      "    \"dominantColors\": [\n",
      "      \"Grey\"\n",
      "    ],\n",
      "    \"isBWImg\": false\n",
      "  },\n",
      "  \"description\": {\n",
      "    \"captions\": [\n",
      "      {\n",
      "        \"confidence\": 0.9006892703704996,\n",
      "        \"text\": \"a man standing in front of a tree\"\n",
      "      }\n",
      "    ],\n",
      "    \"tags\": [\n",
      "      \"person\",\n",
      "      \"outdoor\",\n",
      "      \"man\",\n",
      "      \"standing\",\n",
      "      \"grass\",\n",
      "      \"tree\",\n",
      "      \"wood\",\n",
      "      \"park\",\n",
      "      \"front\",\n",
      "      \"shirt\",\n",
      "      \"walking\",\n",
      "      \"young\",\n",
      "      \"holding\",\n",
      "      \"bench\",\n",
      "      \"board\",\n",
      "      \"riding\",\n",
      "      \"white\"\n",
      "    ]\n",
      "  },\n",
      "  \"faces\": [\n",
      "    {\n",
      "      \"age\": 34,\n",
      "      \"faceRectangle\": {\n",
      "        \"height\": 50,\n",
      "        \"left\": 177,\n",
      "        \"top\": 170,\n",
      "        \"width\": 50\n",
      "      },\n",
      "      \"gender\": \"Male\"\n",
      "    }\n",
      "  ],\n",
      "  \"metadata\": {\n",
      "    \"format\": \"Png\",\n",
      "    \"height\": 400,\n",
      "    \"width\": 400\n",
      "  },\n",
      "  \"requestId\": \"099f7b84-d7e4-495c-a8eb-fd78f68d1ddb\"\n",
      "}\n"
     ]
    }
   ],
   "source": [
    "# Reading in Azure API key from a separate file\n",
    "cvKey = open('cvKey.txt', 'r').read()\n",
    "\n",
    "# Preparing the API request with request headers\n",
    "headers = {\n",
    "    'Content-Type': 'application/json',\n",
    "    'Ocp-Apim-Subscription-Key': cvKey,\n",
    "}\n",
    "\n",
    "# Optional parameters to return\n",
    "params = urllib.parse.urlencode({\n",
    "    'visualFeatures': 'Categories,Faces,Description,Color',\n",
    "    'language': 'en',\n",
    "})\n",
    "\n",
    "# Image to be analyzed\n",
    "# Note the string/JSON format\n",
    "body = \"{'url':'https://avatars1.githubusercontent.com/u/\\\n",
    "13501239?v=4&s=400&u=c5148a74403cf152c3d8fbbac7567466f2105649.png'}\"\n",
    "\n",
    "# Executing the REST API call to get the response\n",
    "try:\n",
    "    conn = http.client.HTTPSConnection(region)\n",
    "    conn.request(\"POST\", \"/vision/v1.0/analyze?%s\" % params, body, headers)\n",
    "    response = conn.getresponse()\n",
    "    data = response.read()\n",
    "\n",
    "    # 'data' contains the JSON data. The following formats the JSON data for display.\n",
    "    parsed = json.loads(data)\n",
    "    print(\"Response:\")\n",
    "    print(json.dumps(parsed, sort_keys=True, indent=2))\n",
    "    conn.close()\n",
    "\n",
    "# Error handling\n",
    "except Exception as e:\n",
    "    print('Error:')\n",
    "    print(e)"
   ]
  },
  {
   "cell_type": "markdown",
   "metadata": {},
   "source": [
    "### Faces\n",
    "\n",
    "- [Documentation](https://docs.microsoft.com/en-us/azure/cognitive-services/face/overview)\n",
    "- [API Reference](https://westus.dev.cognitive.microsoft.com/docs/services/563879b61984550e40cbbe8d/operations/563879b61984550f30395236)\n",
    "- [Examples](https://docs.microsoft.com/en-us/azure/cognitive-services/face/quickstarts/python)\n",
    "\n",
    "This will return the age, gender, emotion, hair color, facial hair, if glasses are present, and more from the faces in the picture."
   ]
  },
  {
   "cell_type": "code",
   "execution_count": 3,
   "metadata": {
    "ExecuteTime": {
     "end_time": "2017-10-03T00:10:58.060367Z",
     "start_time": "2017-10-03T00:10:57.682810Z"
    }
   },
   "outputs": [
    {
     "name": "stdout",
     "output_type": "stream",
     "text": [
      "Response:\n",
      "[\n",
      "  {\n",
      "    \"faceAttributes\": {\n",
      "      \"accessories\": [],\n",
      "      \"age\": 34.0,\n",
      "      \"blur\": {\n",
      "        \"blurLevel\": \"low\",\n",
      "        \"value\": 0.0\n",
      "      },\n",
      "      \"emotion\": {\n",
      "        \"anger\": 0.0,\n",
      "        \"contempt\": 0.001,\n",
      "        \"disgust\": 0.0,\n",
      "        \"fear\": 0.0,\n",
      "        \"happiness\": 0.993,\n",
      "        \"neutral\": 0.006,\n",
      "        \"sadness\": 0.0,\n",
      "        \"surprise\": 0.0\n",
      "      },\n",
      "      \"exposure\": {\n",
      "        \"exposureLevel\": \"overExposure\",\n",
      "        \"value\": 0.77\n",
      "      },\n",
      "      \"facialHair\": {\n",
      "        \"beard\": 0.2,\n",
      "        \"moustache\": 0.1,\n",
      "        \"sideburns\": 0.2\n",
      "      },\n",
      "      \"gender\": \"male\",\n",
      "      \"glasses\": \"NoGlasses\",\n",
      "      \"hair\": {\n",
      "        \"bald\": 0.01,\n",
      "        \"hairColor\": [\n",
      "          {\n",
      "            \"color\": \"brown\",\n",
      "            \"confidence\": 1.0\n",
      "          },\n",
      "          {\n",
      "            \"color\": \"black\",\n",
      "            \"confidence\": 0.8\n",
      "          },\n",
      "          {\n",
      "            \"color\": \"gray\",\n",
      "            \"confidence\": 0.28\n",
      "          },\n",
      "          {\n",
      "            \"color\": \"other\",\n",
      "            \"confidence\": 0.18\n",
      "          },\n",
      "          {\n",
      "            \"color\": \"red\",\n",
      "            \"confidence\": 0.06\n",
      "          },\n",
      "          {\n",
      "            \"color\": \"blond\",\n",
      "            \"confidence\": 0.04\n",
      "          }\n",
      "        ],\n",
      "        \"invisible\": false\n",
      "      },\n",
      "      \"headPose\": {\n",
      "        \"pitch\": 0.0,\n",
      "        \"roll\": -9.7,\n",
      "        \"yaw\": -5.2\n",
      "      },\n",
      "      \"makeup\": {\n",
      "        \"eyeMakeup\": false,\n",
      "        \"lipMakeup\": false\n",
      "      },\n",
      "      \"noise\": {\n",
      "        \"noiseLevel\": \"medium\",\n",
      "        \"value\": 0.49\n",
      "      },\n",
      "      \"occlusion\": {\n",
      "        \"eyeOccluded\": false,\n",
      "        \"foreheadOccluded\": false,\n",
      "        \"mouthOccluded\": false\n",
      "      },\n",
      "      \"smile\": 0.993\n",
      "    },\n",
      "    \"faceId\": \"87a2a650-a0e9-4c95-8eb5-1bb25d90e6de\",\n",
      "    \"faceRectangle\": {\n",
      "      \"height\": 50,\n",
      "      \"left\": 177,\n",
      "      \"top\": 170,\n",
      "      \"width\": 50\n",
      "    }\n",
      "  }\n",
      "]\n"
     ]
    }
   ],
   "source": [
    "# Reading in Azure API key from a separate file\n",
    "faceKey = open('faceKey.txt', 'r').read()\n",
    "\n",
    "# Request headers.\n",
    "headers = {\n",
    "    'Content-Type': 'application/json',\n",
    "    'Ocp-Apim-Subscription-Key': faceKey,\n",
    "}\n",
    "\n",
    "# Request parameters.\n",
    "params = {\n",
    "    'returnFaceId': 'true',\n",
    "    'returnFaceLandmarks': 'false',\n",
    "    'returnFaceAttributes': 'age,gender,headPose,smile,facialHair,glasses,emotion,hair,makeup,occlusion,accessories,blur,exposure,noise',\n",
    "}\n",
    "\n",
    "# Image to be analyzed\n",
    "# Note the string/JSON format\n",
    "body = {'url': 'https://avatars1.githubusercontent.com/u/\\\n",
    "13501239?v=4&s=400&u=c5148a74403cf152c3d8fbbac7567466f2105649.png'}\n",
    "\n",
    "uri_base = 'https://westcentralus.api.cognitive.microsoft.com'\n",
    "\n",
    "# Executing the REST API call to get the response\n",
    "try:\n",
    "    response = requests.request('POST', uri_base + '/face/v1.0/detect',\n",
    "                                json=body, data=None, headers=headers, params=params)\n",
    "\n",
    "    # Displaying the JSON output from the API call\n",
    "    print('Response:')\n",
    "    parsed = json.loads(response.text)\n",
    "    print(json.dumps(parsed, sort_keys=True, indent=2))\n",
    "\n",
    "# Error handling\n",
    "except Exception as e:\n",
    "    print('Error:')\n",
    "    print(e)"
   ]
  },
  {
   "cell_type": "markdown",
   "metadata": {},
   "source": [
    "### Emotion\n",
    "\n",
    "- [Documentation](https://docs.microsoft.com/en-us/azure/cognitive-services/emotion/home)\n",
    "- [API Reference](https://westus.dev.cognitive.microsoft.com/docs/services/5639d931ca73072154c1ce89/operations/563b31ea778daf121cc3a5fa)\n",
    "- [Examples](https://docs.microsoft.com/en-us/azure/cognitive-services/emotion/quickstarts/python)\n",
    "\n",
    "This will return the emotions and location of the faces in a picture."
   ]
  },
  {
   "cell_type": "code",
   "execution_count": 4,
   "metadata": {
    "ExecuteTime": {
     "end_time": "2017-10-03T00:10:58.541266Z",
     "start_time": "2017-10-03T00:10:58.065367Z"
    }
   },
   "outputs": [
    {
     "name": "stdout",
     "output_type": "stream",
     "text": [
      "[\n",
      "  {\n",
      "    \"faceRectangle\": {\n",
      "      \"height\": 50,\n",
      "      \"left\": 177,\n",
      "      \"top\": 170,\n",
      "      \"width\": 50\n",
      "    },\n",
      "    \"scores\": {\n",
      "      \"anger\": 4.03541071e-06,\n",
      "      \"contempt\": 0.000613710959,\n",
      "      \"disgust\": 8.788262e-06,\n",
      "      \"fear\": 2.34950448e-07,\n",
      "      \"happiness\": 0.99347353,\n",
      "      \"neutral\": 0.005850302,\n",
      "      \"sadness\": 4.64919867e-05,\n",
      "      \"surprise\": 2.93453331e-06\n",
      "    }\n",
      "  }\n",
      "]\n"
     ]
    }
   ],
   "source": [
    "# Reading in Azure API key from a separate file\n",
    "emotionKey = open('emotionKey.txt', 'r').read()\n",
    "\n",
    "headers = {\n",
    "    # Request headers. Replace the placeholder key below with your subscription key.\n",
    "    'Content-Type': 'application/json',\n",
    "    'Ocp-Apim-Subscription-Key': emotionKey,\n",
    "}\n",
    "\n",
    "params = urllib.parse.urlencode({\n",
    "})\n",
    "\n",
    "# Image to be analyzed\n",
    "# Note the string/JSON format\n",
    "body = \"{'url':'https://avatars1.githubusercontent.com/u/\\\n",
    "13501239?v=4&s=400&u=c5148a74403cf152c3d8fbbac7567466f2105649.png'}\"\n",
    "\n",
    "try:\n",
    "    # NOTE: You must use the same region in your REST call as you used to obtain your subscription keys.\n",
    "    #   For example, if you obtained your subscription keys from westcentralus, replace \"westus\" in the \n",
    "    #   URL below with \"westcentralus\".\n",
    "    conn = http.client.HTTPSConnection('westus.api.cognitive.microsoft.com')\n",
    "    conn.request(\"POST\", \"/emotion/v1.0/recognize?%s\" % params, body, headers)\n",
    "    response = conn.getresponse()\n",
    "    data = response.read()\n",
    "    parsed = json.loads(data)\n",
    "    print(json.dumps(parsed, sort_keys=True, indent=2))\n",
    "    conn.close()\n",
    "except Exception as e:\n",
    "    print(e.args)"
   ]
  },
  {
   "cell_type": "markdown",
   "metadata": {},
   "source": [
    "Lastly, we'll test the face rectangle by cropping the image to just my face."
   ]
  },
  {
   "cell_type": "code",
   "execution_count": 5,
   "metadata": {
    "ExecuteTime": {
     "end_time": "2017-10-03T00:10:59.824095Z",
     "start_time": "2017-10-03T00:10:58.544266Z"
    }
   },
   "outputs": [
    {
     "data": {
      "image/png": "[encoded data removed]",
      "text/plain": [
       "<matplotlib.figure.Figure at 0x2d6b2088ac8>"
      ]
     },
     "metadata": {},
     "output_type": "display_data"
    }
   ],
   "source": [
    "# Gathering the parameters for the borders of the face\n",
    "face = parsed  # Giving a more intuitive name\n",
    "\n",
    "faceTop = face[0][\"faceRectangle\"][\"top\"]\n",
    "faceLeft = face[0][\"faceRectangle\"][\"left\"]\n",
    "faceWidth = face[0][\"faceRectangle\"][\"width\"]\n",
    "faceHeight = face[0][\"faceRectangle\"][\"height\"]\n",
    "\n",
    "# The image URL to crop\n",
    "picture = 'https://avatars1.githubusercontent.com/u/\\\n",
    "13501239?v=4&s=400&u=c5148a74403cf152c3d8fbbac7567466f2105649.png'\n",
    "\n",
    "# Plotting the picture cropped to the face\n",
    "img = mpimg.imread(picture)\n",
    "plt.imshow(img[faceTop:faceTop + faceHeight, faceLeft:faceLeft + faceWidth]);"
   ]
  },
  {
   "cell_type": "markdown",
   "metadata": {},
   "source": [
    "Well, that's flattering.  You can also ow see that one of my eyes is closed from the sunlight on my face.  Regardless, it's an accurate cropping.\n",
    "\n",
    "---\n",
    "\n",
    "## Text, Speech, and Language APIs"
   ]
  },
  {
   "cell_type": "markdown",
   "metadata": {},
   "source": [
    "#### Detect Language"
   ]
  },
  {
   "cell_type": "code",
   "execution_count": 6,
   "metadata": {
    "ExecuteTime": {
     "end_time": "2017-10-03T00:11:00.022062Z",
     "start_time": "2017-10-03T00:10:59.829086Z"
    }
   },
   "outputs": [
    {
     "name": "stdout",
     "output_type": "stream",
     "text": [
      "{\n",
      "  \"documents\": [\n",
      "    {\n",
      "      \"id\": \"1\",\n",
      "      \"detectedLanguages\": [\n",
      "        {\n",
      "          \"name\": \"English\",\n",
      "          \"iso6391Name\": \"en\",\n",
      "          \"score\": 1.0\n",
      "        }\n",
      "      ]\n",
      "    },\n",
      "    {\n",
      "      \"id\": \"2\",\n",
      "      \"detectedLanguages\": [\n",
      "        {\n",
      "          \"name\": \"Spanish\",\n",
      "          \"iso6391Name\": \"es\",\n",
      "          \"score\": 1.0\n",
      "        }\n",
      "      ]\n",
      "    },\n",
      "    {\n",
      "      \"id\": \"3\",\n",
      "      \"detectedLanguages\": [\n",
      "        {\n",
      "          \"name\": \"Chinese_Simplified\",\n",
      "          \"iso6391Name\": \"zh_chs\",\n",
      "          \"score\": 1.0\n",
      "        }\n",
      "      ]\n",
      "    },\n",
      "    {\n",
      "      \"id\": \"4\",\n",
      "      \"detectedLanguages\": [\n",
      "        {\n",
      "          \"name\": \"German\",\n",
      "          \"iso6391Name\": \"de\",\n",
      "          \"score\": 1.0\n",
      "        }\n",
      "      ]\n",
      "    }\n",
      "  ],\n",
      "  \"errors\": []\n",
      "}\n"
     ]
    }
   ],
   "source": [
    "# Reading in Azure API key from a separate file\n",
    "textKey = open('textKey.txt', 'r').read()\n",
    "\n",
    "uri = 'westus.api.cognitive.microsoft.com'\n",
    "path = '/text/analytics/v2.0/languages'\n",
    "\n",
    "def get_language(documents):\n",
    "    \"Detects the languages for a set of documents and returns the information.\"\n",
    "\n",
    "    headers = {'Ocp-Apim-Subscription-Key': textKey}\n",
    "    conn = http.client.HTTPSConnection(uri)\n",
    "    body = json.dumps(documents)\n",
    "    conn.request(\"POST\", path, body, headers)\n",
    "    response = conn.getresponse()\n",
    "    return response.read()\n",
    "\n",
    "documents = {'documents': [\n",
    "    {'id': '1', 'text': 'This is a document written in English.'},\n",
    "    {'id': '2', 'text': 'Este es un document escrito en Español.'},\n",
    "    {'id': '3', 'text': '这是一个用中文写的文件'},\n",
    "    {'id': '4', 'text': \"Ph'nglui mglw'nafh Cthulhu R'lyeh wgah'nagl fhtagn\"}\n",
    "]}\n",
    "\n",
    "result = get_language(documents)\n",
    "print(json.dumps(json.loads(result), indent=2))"
   ]
  },
  {
   "cell_type": "markdown",
   "metadata": {},
   "source": [
    "#### Sentiment Analysis"
   ]
  },
  {
   "cell_type": "code",
   "execution_count": 7,
   "metadata": {
    "ExecuteTime": {
     "end_time": "2017-10-03T00:11:00.200083Z",
     "start_time": "2017-10-03T00:11:00.026054Z"
    }
   },
   "outputs": [
    {
     "name": "stdout",
     "output_type": "stream",
     "text": [
      "{\n",
      "  \"documents\": [\n",
      "    {\n",
      "      \"score\": 0.9998413324356079,\n",
      "      \"id\": \"1\"\n",
      "    },\n",
      "    {\n",
      "      \"score\": 0.024017512798309326,\n",
      "      \"id\": \"2\"\n",
      "    }\n",
      "  ],\n",
      "  \"errors\": []\n",
      "}\n"
     ]
    }
   ],
   "source": [
    "uri = 'westus.api.cognitive.microsoft.com'\n",
    "path = '/text/analytics/v2.0/sentiment'\n",
    "\n",
    "def get_sentiment(documents):\n",
    "    \"Gets the sentiments for a set of documents and returns the information.\"\n",
    "\n",
    "    headers = {'Ocp-Apim-Subscription-Key': textKey}\n",
    "    conn = http.client.HTTPSConnection(uri)\n",
    "    body = json.dumps(documents)\n",
    "    conn.request(\"POST\", path, body, headers)\n",
    "    response = conn.getresponse()\n",
    "    return response.read()\n",
    "\n",
    "documents = {'documents': [\n",
    "    {'id': '1', 'language': 'en', 'text': 'I really enjoy the new XBox One S. It has a clean look, it has 4K/HDR resolution and it is affordable.'},\n",
    "    {'id': '2', 'language': 'es', 'text': 'Este ha sido un dia terrible, llegué tarde al trabajo debido a un accidente automobilistico.'}\n",
    "]}\n",
    "\n",
    "result = get_sentiment(documents)\n",
    "print(json.dumps(json.loads(result), indent=2))"
   ]
  },
  {
   "cell_type": "markdown",
   "metadata": {},
   "source": [
    "#### Extract Key Phrases"
   ]
  },
  {
   "cell_type": "code",
   "execution_count": 8,
   "metadata": {
    "ExecuteTime": {
     "end_time": "2017-10-03T00:11:00.445149Z",
     "start_time": "2017-10-03T00:11:00.208084Z"
    }
   },
   "outputs": [
    {
     "name": "stdout",
     "output_type": "stream",
     "text": [
      "{\n",
      "  \"documents\": [\n",
      "    {\n",
      "      \"keyPhrases\": [\n",
      "        \"HDR resolution\",\n",
      "        \"new XBox\",\n",
      "        \"clean look\"\n",
      "      ],\n",
      "      \"id\": \"1\"\n",
      "    },\n",
      "    {\n",
      "      \"keyPhrases\": [\n",
      "        \"Carlos\",\n",
      "        \"notificacion\",\n",
      "        \"algun problema\",\n",
      "        \"telefono movil\"\n",
      "      ],\n",
      "      \"id\": \"2\"\n",
      "    },\n",
      "    {\n",
      "      \"keyPhrases\": [\n",
      "        \"new hotel\",\n",
      "        \"Grand Hotel\",\n",
      "        \"review\",\n",
      "        \"center of Seattle\",\n",
      "        \"classiest decor\",\n",
      "        \"stars\"\n",
      "      ],\n",
      "      \"id\": \"3\"\n",
      "    }\n",
      "  ],\n",
      "  \"errors\": []\n",
      "}\n"
     ]
    }
   ],
   "source": [
    "uri = 'westus.api.cognitive.microsoft.com'\n",
    "path = '/text/analytics/v2.0/keyPhrases'\n",
    "\n",
    "def get_key_phrases(documents):\n",
    "    \"Gets the sentiments for a set of documents and returns the information.\"\n",
    "\n",
    "    headers = {'Ocp-Apim-Subscription-Key': textKey}\n",
    "    conn = http.client.HTTPSConnection(uri)\n",
    "    body = json.dumps(documents)\n",
    "    conn.request(\"POST\", path, body, headers)\n",
    "    response = conn.getresponse()\n",
    "    return response.read()\n",
    "\n",
    "documents = {'documents': [\n",
    "    {'id': '1', 'language': 'en', 'text': 'I really enjoy the new XBox One S. It has a clean look, it has 4K/HDR resolution and it is affordable.'},\n",
    "    {'id': '2', 'language': 'es', 'text': 'Si usted quiere comunicarse con Carlos, usted debe de llamarlo a su telefono movil. Carlos es muy responsable, pero necesita recibir una notificacion si hay algun problema.'},\n",
    "    {'id': '3', 'language': 'en', 'text': 'The Grand Hotel is a new hotel in the center of Seattle. It earned 5 stars in my review, and has the classiest decor I\\'ve ever seen.'}\n",
    "]}\n",
    "\n",
    "result = get_key_phrases(documents)\n",
    "print(json.dumps(json.loads(result), indent=2))"
   ]
  },
  {
   "cell_type": "markdown",
   "metadata": {},
   "source": [
    "---\n",
    "\n",
    "## Knowledge & Search APIs"
   ]
  },
  {
   "cell_type": "markdown",
   "metadata": {
    "collapsed": true
   },
   "source": [
    "### Academic Knowledge\n",
    "\n",
    "- [Documentation](https://docs.microsoft.com/en-us/azure/cognitive-services/academic-knowledge/home)\n",
    "- [API References](https://westus.dev.cognitive.microsoft.com/docs/services/56332331778daf02acc0a50b/operations/565d9001ca73072048922d97)\n",
    "- [Examples]()\n",
    "\n",
    "\n",
    "- **Interpret:** Interprets a natural language user query string. Returns annotated interpretations to enable rich search-box auto-completion experiences that anticipate what the user is typing.\n",
    "- **Evaluate:** Evaluates a query expression and returns Academic Knowledge entity results.\n",
    "- **Text Similarity:** Returns the cosine similarity between two strings.\n",
    "- **CalcHistogram:** Calculates a histogram of the distribution of attribute values for the academic entities returned by a query expression, such as the distribution of citations by year for a given author."
   ]
  },
  {
   "cell_type": "markdown",
   "metadata": {},
   "source": [
    "#### Evaluate\n",
    "\n",
    "- [Documentation](https://docs.microsoft.com/en-us/azure/cognitive-services/academic-knowledge/evaluatemethod)\n",
    "- [API Reference](https://westus.dev.cognitive.microsoft.com/docs/services/56332331778daf02acc0a50b/operations/565d753be597ed16ac3ffc03)\n",
    "\n",
    "For this example, we'll search for academic papers written by one of my professors."
   ]
  },
  {
   "cell_type": "code",
   "execution_count": 9,
   "metadata": {
    "ExecuteTime": {
     "end_time": "2017-10-03T00:11:00.720222Z",
     "start_time": "2017-10-03T00:11:00.447149Z"
    },
    "scrolled": false
   },
   "outputs": [
    {
     "name": "stdout",
     "output_type": "stream",
     "text": [
      "{\n",
      "  \"entities\": [\n",
      "    {\n",
      "      \"AA\": [\n",
      "        {\n",
      "          \"AuId\": 123788635,\n",
      "          \"AuN\": \"edward mcfowland\"\n",
      "        },\n",
      "        {\n",
      "          \"AuId\": 2000003124,\n",
      "          \"AuN\": \"skyler speakman\"\n",
      "        },\n",
      "        {\n",
      "          \"AuId\": 2115216468,\n",
      "          \"AuN\": \"daniel b neill\"\n",
      "        }\n",
      "      ],\n",
      "      \"CC\": 22,\n",
      "      \"Id\": 2146022760,\n",
      "      \"Ti\": \"fast generalized subset scan for anomalous pattern detection\",\n",
      "      \"Y\": 2013,\n",
      "      \"logprob\": -19.705\n",
      "    },\n",
      "    {\n",
      "      \"AA\": [\n",
      "        {\n",
      "          \"AuId\": 2000003124,\n",
      "          \"AuN\": \"skyler speakman\"\n",
      "        },\n",
      "        {\n",
      "          \"AuId\": 123788635,\n",
      "          \"AuN\": \"edward mcfowland\"\n",
      "        },\n",
      "        {\n",
      "          \"AuId\": 2115216468,\n",
      "          \"AuN\": \"daniel b neill\"\n",
      "        }\n",
      "      ],\n",
      "      \"CC\": 11,\n",
      "      \"Id\": 1970768703,\n",
      "      \"Ti\": \"scalable detection of anomalous patterns with connectivity constraints\",\n",
      "      \"Y\": 2015,\n",
      "      \"logprob\": -20.135\n",
      "    },\n",
      "    {\n",
      "      \"AA\": [\n",
      "        {\n",
      "          \"AuId\": 2115216468,\n",
      "          \"AuN\": \"daniel b neill\"\n",
      "        },\n",
      "        {\n",
      "          \"AuId\": 123788635,\n",
      "          \"AuN\": \"edward mcfowland\"\n",
      "        },\n",
      "        {\n",
      "          \"AuId\": 2147461085,\n",
      "          \"AuN\": \"huanian zheng\"\n",
      "        }\n",
      "      ],\n",
      "      \"CC\": 6,\n",
      "      \"Id\": 1971073366,\n",
      "      \"Ti\": \"fast subset scan for multivariate event detection\",\n",
      "      \"Y\": 2013,\n",
      "      \"logprob\": -20.16\n",
      "    }\n",
      "  ],\n",
      "  \"expr\": \"Composite(AA.AuN=='edward mcfowland')\"\n",
      "}\n"
     ]
    }
   ],
   "source": [
    "import http.client, urllib.request, urllib.parse, urllib.error, base64\n",
    "\n",
    "# Reading in Azure API key from a separate file\n",
    "academicKey = open('academicKey.txt', 'r').read()\n",
    "\n",
    "headers = {\n",
    "    # Request headers\n",
    "    'Ocp-Apim-Subscription-Key': academicKey,\n",
    "}\n",
    "\n",
    "params = urllib.parse.urlencode({\n",
    "    # Request parameters\n",
    "    'expr': \"Composite(AA.AuN=='edward mcfowland')\",  # Main query\n",
    "    'model': 'latest',  # Name of the model querying\n",
    "    'count': '3',  # Number of results to retrun\n",
    "    'offset': '0',  # Index of the first result to return\n",
    "    'attributes': 'Ti,Y,CC,AA.AuN,AA.AuId',  # Attributes to return\n",
    "})\n",
    "\n",
    "try:\n",
    "    conn = http.client.HTTPSConnection('westus.api.cognitive.microsoft.com')\n",
    "    conn.request(\"GET\", \"/academic/v1.0/evaluate?%s\" % params, \"{body}\", headers)\n",
    "    response = conn.getresponse()\n",
    "    data = response.read()\n",
    "    parsed = json.loads(data)\n",
    "    print(json.dumps(parsed, sort_keys=True, indent=2))\n",
    "    conn.close()\n",
    "except Exception as e:\n",
    "    print(\"[Errno {0}] {1}\".format(e.errno, e.strerror))"
   ]
  },
  {
   "cell_type": "markdown",
   "metadata": {},
   "source": [
    "#### Interpret\n",
    "\n",
    "- [Documentation](https://docs.microsoft.com/en-us/azure/cognitive-services/academic-knowledge/interpretmethod)\n",
    "- [API Reference](https://westus.dev.cognitive.microsoft.com/docs/services/56332331778daf02acc0a50b/operations/56332331778daf06340c9666)\n",
    "\n",
    "We'll enter a search for academic papers written by an author and see how the query is interpreted."
   ]
  },
  {
   "cell_type": "code",
   "execution_count": 10,
   "metadata": {
    "ExecuteTime": {
     "end_time": "2017-10-03T00:11:00.933479Z",
     "start_time": "2017-10-03T00:11:00.722223Z"
    },
    "scrolled": false
   },
   "outputs": [
    {
     "name": "stdout",
     "output_type": "stream",
     "text": [
      "{\n",
      "  \"interpretations\": [\n",
      "    {\n",
      "      \"logprob\": -22.982,\n",
      "      \"parse\": \"<rule name=\\\"#GetPapers\\\">papers by <attr name=\\\"academic#AA.AuN\\\">jaime teevan</attr></rule>\",\n",
      "      \"rules\": [\n",
      "        {\n",
      "          \"name\": \"#GetPapers\",\n",
      "          \"output\": {\n",
      "            \"type\": \"query\",\n",
      "            \"value\": \"Composite(AA.AuN=='jaime teevan')\"\n",
      "          }\n",
      "        }\n",
      "      ]\n",
      "    },\n",
      "    {\n",
      "      \"logprob\": -25.505,\n",
      "      \"parse\": \"<rule name=\\\"#GetPapers\\\">papers by <attr name=\\\"academic#AA.AuN\\\" canonical=\\\"jaime brooks teevan\\\">jaime teevan</attr></rule>\",\n",
      "      \"rules\": [\n",
      "        {\n",
      "          \"name\": \"#GetPapers\",\n",
      "          \"output\": {\n",
      "            \"type\": \"query\",\n",
      "            \"value\": \"Composite(AA.AuN=='jaime brooks teevan')\"\n",
      "          }\n",
      "        }\n",
      "      ]\n",
      "    }\n",
      "  ],\n",
      "  \"query\": \"papers by jaime teevan\"\n",
      "}\n"
     ]
    }
   ],
   "source": [
    "headers = {\n",
    "    # Request headers\n",
    "    'Ocp-Apim-Subscription-Key': academicKey,\n",
    "}\n",
    "\n",
    "params = urllib.parse.urlencode({\n",
    "    # Request parameters\n",
    "    'query': 'papers by jaime teevan',  # Query generated by the user\n",
    "    'complete': '0',  # 1 gives auto-completion suggestions\n",
    "    'count': '10',  # Number of interpretations to return\n",
    "    'offset': '0',  # Index of the first interpretation to return\n",
    "    'timeout': '1000',  # Timeout in milliseconds.  Default is 1,000\n",
    "    'model': 'latest',  # Name of the model to query.  Default is latest\n",
    "})\n",
    "\n",
    "try:\n",
    "    conn = http.client.HTTPSConnection('westus.api.cognitive.microsoft.com')\n",
    "    conn.request(\"GET\", \"/academic/v1.0/interpret?%s\" % params, \"{body}\", headers)\n",
    "    response = conn.getresponse()\n",
    "    data = response.read()\n",
    "    parsed = json.loads(data)\n",
    "    print(json.dumps(parsed, sort_keys=True, indent=2))\n",
    "    conn.close()\n",
    "except Exception as e:\n",
    "    print(\"[Errno {0}] {1}\".format(e.errno, e.strerror))"
   ]
  },
  {
   "cell_type": "markdown",
   "metadata": {},
   "source": [
    "#### Text Similarity\n",
    "\n",
    "- [Documentation](https://docs.microsoft.com/en-us/azure/cognitive-services/academic-knowledge/similaritymethod)\n",
    "- [API Reference](https://westus.dev.cognitive.microsoft.com/docs/services/56332331778daf02acc0a50b/operations/58076bdadcf4c40708f83791)\n",
    "\n",
    "We'll generate the cosine similarity between two sentences."
   ]
  },
  {
   "cell_type": "code",
   "execution_count": 11,
   "metadata": {
    "ExecuteTime": {
     "end_time": "2017-10-03T00:11:01.266760Z",
     "start_time": "2017-10-03T00:11:00.937481Z"
    }
   },
   "outputs": [
    {
     "name": "stdout",
     "output_type": "stream",
     "text": [
      "Text Similarity: b'0.81168925283689186'\n"
     ]
    }
   ],
   "source": [
    "headers = {\n",
    "    # Request headers\n",
    "    'Ocp-Apim-Subscription-Key': academicKey,\n",
    "}\n",
    "\n",
    "params = urllib.parse.urlencode({\n",
    "    # Request parameters\n",
    "    's1': 'This is a string',\n",
    "    's2': 'This is also a string, and it is very similar',\n",
    "})\n",
    "\n",
    "try:\n",
    "    conn = http.client.HTTPSConnection('westus.api.cognitive.microsoft.com')\n",
    "    conn.request(\"GET\", \"/academic/v1.0/similarity?%s\" % params, \"{body}\", headers)\n",
    "    response = conn.getresponse()\n",
    "    data = response.read()\n",
    "    print('Text Similarity:', data)\n",
    "    conn.close()\n",
    "except Exception as e:\n",
    "    print(\"[Errno {0}] {1}\".format(e.errno, e.strerror))"
   ]
  },
  {
   "cell_type": "markdown",
   "metadata": {},
   "source": [
    "#### CalcHistogram\n",
    "\n",
    "- [Documentation](https://docs.microsoft.com/en-us/azure/cognitive-services/academic-knowledge/calchistogrammethod)\n",
    "- [API Reference](https://westus.dev.cognitive.microsoft.com/docs/services/56332331778daf02acc0a50b/operations/565d9001ca73072048922d97)"
   ]
  },
  {
   "cell_type": "code",
   "execution_count": 12,
   "metadata": {
    "ExecuteTime": {
     "end_time": "2017-10-03T00:11:01.415801Z",
     "start_time": "2017-10-03T00:11:01.270767Z"
    }
   },
   "outputs": [
    {
     "name": "stdout",
     "output_type": "stream",
     "text": [
      "{\n",
      "  \"expr\": \"And(Composite(AA.AuN=='jaime teevan'),Y>2012)\",\n",
      "  \"histograms\": [\n",
      "    {\n",
      "      \"attribute\": \"Y\",\n",
      "      \"distinct_values\": 5,\n",
      "      \"histogram\": [\n",
      "        {\n",
      "          \"count\": 18,\n",
      "          \"logprob\": -17.057,\n",
      "          \"value\": 2013\n",
      "        },\n",
      "        {\n",
      "          \"count\": 13,\n",
      "          \"logprob\": -17.29,\n",
      "          \"value\": 2014\n",
      "        },\n",
      "        {\n",
      "          \"count\": 16,\n",
      "          \"logprob\": -17.85,\n",
      "          \"value\": 2016\n",
      "        },\n",
      "        {\n",
      "          \"count\": 13,\n",
      "          \"logprob\": -17.924,\n",
      "          \"value\": 2015\n",
      "        },\n",
      "        {\n",
      "          \"count\": 9,\n",
      "          \"logprob\": -18.591,\n",
      "          \"value\": 2017\n",
      "        }\n",
      "      ],\n",
      "      \"total_count\": 69\n",
      "    },\n",
      "    {\n",
      "      \"attribute\": \"F.FN\",\n",
      "      \"distinct_values\": 89,\n",
      "      \"histogram\": [\n",
      "        {\n",
      "          \"count\": 43,\n",
      "          \"logprob\": -16.466,\n",
      "          \"value\": \"computer science\"\n",
      "        },\n",
      "        {\n",
      "          \"count\": 33,\n",
      "          \"logprob\": -16.515,\n",
      "          \"value\": \"world wide web\"\n",
      "        },\n",
      "        {\n",
      "          \"count\": 28,\n",
      "          \"logprob\": -16.669,\n",
      "          \"value\": \"data mining\"\n",
      "        },\n",
      "        {\n",
      "          \"count\": 20,\n",
      "          \"logprob\": -17.228,\n",
      "          \"value\": \"simulation\"\n",
      "        },\n",
      "        {\n",
      "          \"count\": 22,\n",
      "          \"logprob\": -17.3,\n",
      "          \"value\": \"multimedia\"\n",
      "        }\n",
      "      ],\n",
      "      \"total_count\": 341\n",
      "    }\n",
      "  ],\n",
      "  \"num_entities\": 69\n",
      "}\n"
     ]
    }
   ],
   "source": [
    "headers = {\n",
    "    # Request headers\n",
    "    'Content-Type': 'application/json',\n",
    "    'Ocp-Apim-Subscription-Key': academicKey,\n",
    "}\n",
    "\n",
    "params = urllib.parse.urlencode({\n",
    "    # Request parameters\n",
    "    'expr': \"And(Composite(AA.AuN=='jaime teevan'),Y>2012)\",  # Query of which entities to calculate histograms for\n",
    "    'model': 'latest',  # Name of the model querying\n",
    "    'attributes': 'Y,F.FN',  # Attributes to be included in the response\n",
    "    'count': '5',  # Number of results to return\n",
    "    'offset': '0',  # Index of the first result\n",
    "})\n",
    "\n",
    "try:\n",
    "    conn = http.client.HTTPSConnection('westus.api.cognitive.microsoft.com')\n",
    "    conn.request(\"GET\", \"/academic/v1.0/calchistogram?%s\" % params, \"{body}\", headers)\n",
    "    response = conn.getresponse()\n",
    "    data = response.read()\n",
    "    parsed = json.loads(data)\n",
    "    print(json.dumps(parsed, sort_keys=True, indent=2))\n",
    "    conn.close()\n",
    "except Exception as e:\n",
    "    print(\"[Errno {0}] {1}\".format(e.errno, e.strerror))"
   ]
  }
 ],
 "metadata": {
  "kernelspec": {
   "display_name": "Python 3",
   "language": "python",
   "name": "python3"
  },
  "language_info": {
   "codemirror_mode": {
    "name": "ipython",
    "version": 3
   },
   "file_extension": ".py",
   "mimetype": "text/x-python",
   "name": "python",
   "nbconvert_exporter": "python",
   "pygments_lexer": "ipython3",
   "version": "3.6.1"
  },
  "varInspector": {
   "cols": {
    "lenName": 16,
    "lenType": 16,
    "lenVar": 40
   },
   "kernels_config": {
    "python": {
     "delete_cmd_postfix": "",
     "delete_cmd_prefix": "del ",
     "library": "var_list.py",
     "varRefreshCmd": "print(var_dic_list())"
    },
    "r": {
     "delete_cmd_postfix": ") ",
     "delete_cmd_prefix": "rm(",
     "library": "var_list.r",
     "varRefreshCmd": "cat(var_dic_list()) "
    }
   },
   "types_to_exclude": [
    "module",
    "function",
    "builtin_function_or_method",
    "instance",
    "_Feature"
   ],
   "window_display": false
  }
 },
 "nbformat": 4,
 "nbformat_minor": 2
}
